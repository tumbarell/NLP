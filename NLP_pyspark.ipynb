{
  "cells": [
    {
      "cell_type": "code",
      "execution_count": 2,
      "metadata": {
        "colab": {
          "base_uri": "https://localhost:8080/"
        },
        "id": "rIBFGMz5AiCV",
        "outputId": "f3763eae-ae3e-47da-dec9-85f5fdd71ea9"
      },
      "outputs": [
        {
          "output_type": "stream",
          "name": "stdout",
          "text": [
            "Mounted at /content/drive\n"
          ]
        }
      ],
      "source": [
        "from google.colab import drive\n",
        "drive.mount('/content/drive')\n",
        "#This will allow you to access your google drive contents from google colab notebook.\n",
        "#put your Python files as .py files in a folder on your Google drive\n",
        "#then execute\n",
        "#drive.mount('/content/drive/<path_to_your_dir>')\n",
        "#from <your lib(without .py)> import *"
      ]
    },
    {
      "cell_type": "code",
      "source": [
        "!pip install pyspark"
      ],
      "metadata": {
        "colab": {
          "base_uri": "https://localhost:8080/"
        },
        "id": "tHDOVlRzFrbD",
        "outputId": "8072cd81-334d-44b6-f411-604359ccc411"
      },
      "execution_count": 3,
      "outputs": [
        {
          "output_type": "stream",
          "name": "stdout",
          "text": [
            "Collecting pyspark\n",
            "  Downloading pyspark-3.5.0.tar.gz (316.9 MB)\n",
            "\u001b[2K     \u001b[90m━━━━━━━━━━━━━━━━━━━━━━━━━━━━━━━━━━━━━━━━\u001b[0m \u001b[32m316.9/316.9 MB\u001b[0m \u001b[31m4.6 MB/s\u001b[0m eta \u001b[36m0:00:00\u001b[0m\n",
            "\u001b[?25h  Preparing metadata (setup.py) ... \u001b[?25l\u001b[?25hdone\n",
            "Requirement already satisfied: py4j==0.10.9.7 in /usr/local/lib/python3.10/dist-packages (from pyspark) (0.10.9.7)\n",
            "Building wheels for collected packages: pyspark\n",
            "  Building wheel for pyspark (setup.py) ... \u001b[?25l\u001b[?25hdone\n",
            "  Created wheel for pyspark: filename=pyspark-3.5.0-py2.py3-none-any.whl size=317425344 sha256=145ae9ed24e4592569bec041330a628fe06bbb162b6e81543bc34404c3ec71ec\n",
            "  Stored in directory: /root/.cache/pip/wheels/41/4e/10/c2cf2467f71c678cfc8a6b9ac9241e5e44a01940da8fbb17fc\n",
            "Successfully built pyspark\n",
            "Installing collected packages: pyspark\n",
            "Successfully installed pyspark-3.5.0\n"
          ]
        }
      ]
    },
    {
      "cell_type": "code",
      "source": [
        "import pyspark\n",
        "import os\n",
        "from pyspark import SparkConf\n",
        "from pyspark.sql import SparkSession\n",
        "from pyspark import SparkContext\n",
        "from pyspark import HiveContext\n",
        "from pyspark.sql.session import *\n",
        "from pyspark.sql import *\n",
        "from pyspark.sql.types import *\n",
        "from pyspark.sql.window import Window\n",
        "from pyspark.ml.feature import QuantileDiscretizer, Bucketizer, StringIndexer, IndexToString\n",
        "\n",
        "import pyspark.sql.functions as F\n",
        "import pandas as pd\n",
        "import numpy as np\n",
        "\n",
        "#import pyarrow\n",
        "import matplotlib.pyplot as plt\n",
        "import matplotlib.ticker as ticker\n",
        "import seaborn as sns\n",
        "\n",
        "\n",
        "spark = SparkSession.builder.master(\"local[*]\")\\\n",
        "          .appName(\"SparkByExamples.com\")\\\n",
        "          .getOrCreate()\n",
        "sc = spark.sparkContext\n",
        "sc"
      ],
      "metadata": {
        "colab": {
          "base_uri": "https://localhost:8080/",
          "height": 196
        },
        "id": "qqptNzzyF6LJ",
        "outputId": "abc22eec-fcbe-4167-b3c4-7e0551565033"
      },
      "execution_count": 4,
      "outputs": [
        {
          "output_type": "execute_result",
          "data": {
            "text/plain": [
              "<SparkContext master=local[*] appName=SparkByExamples.com>"
            ],
            "text/html": [
              "\n",
              "        <div>\n",
              "            <p><b>SparkContext</b></p>\n",
              "\n",
              "            <p><a href=\"http://4b9e6033392a:4040\">Spark UI</a></p>\n",
              "\n",
              "            <dl>\n",
              "              <dt>Version</dt>\n",
              "                <dd><code>v3.5.0</code></dd>\n",
              "              <dt>Master</dt>\n",
              "                <dd><code>local[*]</code></dd>\n",
              "              <dt>AppName</dt>\n",
              "                <dd><code>SparkByExamples.com</code></dd>\n",
              "            </dl>\n",
              "        </div>\n",
              "        "
            ]
          },
          "metadata": {},
          "execution_count": 4
        }
      ]
    },
    {
      "cell_type": "code",
      "source": [
        "from IPython.display import Image, display, Markdown\n",
        "from IPython.core.display import HTML\n",
        "display(HTML('<style = fonte-size>pre {white-space: pre !important; }</style>'))"
      ],
      "metadata": {
        "colab": {
          "base_uri": "https://localhost:8080/",
          "height": 17
        },
        "id": "To9tSvmbGfS5",
        "outputId": "21a753b3-c143-4766-bf2d-b5cd829bceb6"
      },
      "execution_count": 5,
      "outputs": [
        {
          "output_type": "display_data",
          "data": {
            "text/plain": [
              "<IPython.core.display.HTML object>"
            ],
            "text/html": [
              "<style = fonte-size>pre {white-space: pre !important; }</style>"
            ]
          },
          "metadata": {}
        }
      ]
    },
    {
      "cell_type": "markdown",
      "source": [
        "**Steps Involved in NLP**\n",
        "\n",
        "1. Reading the corpus (entire collection of text documents)\n",
        "\n",
        "2. Tokenization\n",
        "\n",
        "3. Cleaning/stopword removal\n",
        "\n",
        "4. Stemming\n",
        "\n",
        "5. Converting into numerical form\n",
        "\n",
        "\n",
        "\n",
        "\n"
      ],
      "metadata": {
        "id": "Zstd4_8OIpIN"
      }
    },
    {
      "cell_type": "markdown",
      "source": [
        "**Tokenization using PySpark**"
      ],
      "metadata": {
        "id": "zE9JTcc1Kbyc"
      }
    },
    {
      "cell_type": "code",
      "source": [
        "%%time\n",
        "from pyspark.ml.feature import Tokenizer\n",
        "\n",
        "#creating the corpus, with four sentences for tokenization\n",
        "\n",
        "df=spark.createDataFrame([(1,'I really liked this movie'),\n",
        "(2,'I would recommend this movie to my friends'),\n",
        "(3,'movie was alright but acting was horrible'),\n",
        "(4,'I am never watching that movie ever again')],\n",
        "['user_id','review'])\n",
        "\n",
        "\n",
        "df.show(5,False)\n",
        "\n",
        "tokenization=Tokenizer(inputCol='review',outputCol='tokens')\n",
        "tokenized_df=tokenization.transform(df)\n",
        "tokenized_df.show(4,False)"
      ],
      "metadata": {
        "colab": {
          "base_uri": "https://localhost:8080/"
        },
        "id": "qYaLLwuQJ9Oh",
        "outputId": "11f401b4-c136-4f2c-bc66-06065350d9b2"
      },
      "execution_count": 6,
      "outputs": [
        {
          "output_type": "stream",
          "name": "stdout",
          "text": [
            "+-------+------------------------------------------+\n",
            "|user_id|review                                    |\n",
            "+-------+------------------------------------------+\n",
            "|1      |I really liked this movie                 |\n",
            "|2      |I would recommend this movie to my friends|\n",
            "|3      |movie was alright but acting was horrible |\n",
            "|4      |I am never watching that movie ever again |\n",
            "+-------+------------------------------------------+\n",
            "\n",
            "+-------+------------------------------------------+---------------------------------------------------+\n",
            "|user_id|review                                    |tokens                                             |\n",
            "+-------+------------------------------------------+---------------------------------------------------+\n",
            "|1      |I really liked this movie                 |[i, really, liked, this, movie]                    |\n",
            "|2      |I would recommend this movie to my friends|[i, would, recommend, this, movie, to, my, friends]|\n",
            "|3      |movie was alright but acting was horrible |[movie, was, alright, but, acting, was, horrible]  |\n",
            "|4      |I am never watching that movie ever again |[i, am, never, watching, that, movie, ever, again] |\n",
            "+-------+------------------------------------------+---------------------------------------------------+\n",
            "\n",
            "CPU times: user 107 ms, sys: 15.5 ms, total: 122 ms\n",
            "Wall time: 16.8 s\n"
          ]
        }
      ]
    },
    {
      "cell_type": "markdown",
      "source": [
        "**Stopword Removal**\n",
        "\n",
        " Very common words such as “this,”\n",
        "“the,” “to,” “was,” “that,” etc., are known as stopwords, and they seem to add very little value to the analysis. In PySpark, we use StopWordsRemover to remove the\n",
        "stopwords"
      ],
      "metadata": {
        "id": "GXkaOtUeLGPJ"
      }
    },
    {
      "cell_type": "code",
      "source": [
        "%%time\n",
        "from pyspark.ml.feature import StopWordsRemover\n",
        "stopword_removal = StopWordsRemover(inputCol='tokens',outputCol='refined_tokens')\n",
        "refined_df = stopword_removal.transform(tokenized_df)\n",
        "refined_df.select(['user_id','tokens','refined_tokens']).show(4,False)"
      ],
      "metadata": {
        "colab": {
          "base_uri": "https://localhost:8080/"
        },
        "id": "tlvvsWL5LcWT",
        "outputId": "2ee01d0e-fecb-49c1-96d8-28ddcc255c73"
      },
      "execution_count": 7,
      "outputs": [
        {
          "output_type": "stream",
          "name": "stdout",
          "text": [
            "+-------+---------------------------------------------------+----------------------------------+\n",
            "|user_id|tokens                                             |refined_tokens                    |\n",
            "+-------+---------------------------------------------------+----------------------------------+\n",
            "|1      |[i, really, liked, this, movie]                    |[really, liked, movie]            |\n",
            "|2      |[i, would, recommend, this, movie, to, my, friends]|[recommend, movie, friends]       |\n",
            "|3      |[movie, was, alright, but, acting, was, horrible]  |[movie, alright, acting, horrible]|\n",
            "|4      |[i, am, never, watching, that, movie, ever, again] |[never, watching, movie, ever]    |\n",
            "+-------+---------------------------------------------------+----------------------------------+\n",
            "\n",
            "CPU times: user 60.1 ms, sys: 1.33 ms, total: 61.4 ms\n",
            "Wall time: 2.01 s\n"
          ]
        }
      ]
    },
    {
      "cell_type": "markdown",
      "source": [
        "**Convert the tokens into a numerical form**\n",
        "\n",
        "This is necessary because ML algorithms work with numerical data.\n",
        "\n",
        "*Bag of words:*\n",
        "\n",
        "Converts the text data into numerical vector\n",
        "form by considering the occurrence of the words in text documents. The list of unique words appearing in all the documents is known as vocabulary. It is built a matrix where each row represents a document and each column a word of the vocabulary, assigning either 0 or 1 depending on the presence of the word in the document.\n",
        "\n",
        "Bag of words does not consider the order of words in the document and the semantic\n",
        "meaning of the word and hence is the most baseline method to represent the text data\n",
        "in numerical form.\n",
        "\n",
        "*CountVectorizer:*\n",
        "\n",
        "The count vectorizer instead takes\n",
        "the total count of the tokens appearing in the document."
      ],
      "metadata": {
        "id": "FU41y1t_NGVx"
      }
    },
    {
      "cell_type": "code",
      "source": [
        "%%time\n",
        "from pyspark.ml.feature import CountVectorizer\n",
        "count_vec=CountVectorizer(inputCol='refined_tokens',outputCol='features')\n",
        "cv_df=count_vec.fit(refined_df).transform(refined_df)\n",
        "cv_df.select(['user_id','refined_tokens','features']).show(4,False)"
      ],
      "metadata": {
        "colab": {
          "base_uri": "https://localhost:8080/"
        },
        "id": "LVfa0My4Ow_D",
        "outputId": "cf489ffd-66d3-4eb2-a8b1-a306a0fd17df"
      },
      "execution_count": 8,
      "outputs": [
        {
          "output_type": "stream",
          "name": "stdout",
          "text": [
            "+-------+----------------------------------+--------------------------------+\n",
            "|user_id|refined_tokens                    |features                        |\n",
            "+-------+----------------------------------+--------------------------------+\n",
            "|1      |[really, liked, movie]            |(11,[0,3,5],[1.0,1.0,1.0])      |\n",
            "|2      |[recommend, movie, friends]       |(11,[0,2,10],[1.0,1.0,1.0])     |\n",
            "|3      |[movie, alright, acting, horrible]|(11,[0,1,8,9],[1.0,1.0,1.0,1.0])|\n",
            "|4      |[never, watching, movie, ever]    |(11,[0,4,6,7],[1.0,1.0,1.0,1.0])|\n",
            "+-------+----------------------------------+--------------------------------+\n",
            "\n",
            "CPU times: user 31.2 ms, sys: 2.86 ms, total: 34.1 ms\n",
            "Wall time: 2.53 s\n"
          ]
        }
      ]
    },
    {
      "cell_type": "code",
      "source": [
        "%%time\n",
        "vocab = count_vec.fit(refined_df).vocabulary\n",
        "print('words in vocabulary: ', len(vocab))\n",
        "print(np.array(vocab)) #vocab[0]='movie'--> appears in all the documents\n",
        "\n",
        "#the features column structure is like the input feature vector\n",
        "#used for Machine Learning in PySpark.\n",
        "#The drawback of using the CountVectorizer method is\n",
        "#that it doesn’t consider the co-occurrences of words in other documents. In simple\n",
        "#terms, the words appearing often would have larger impact on the feature vector."
      ],
      "metadata": {
        "colab": {
          "base_uri": "https://localhost:8080/"
        },
        "id": "PQP0v1-eQ6OM",
        "outputId": "b58389b9-ce5f-4bd0-cfd5-7062170a73ba"
      },
      "execution_count": 9,
      "outputs": [
        {
          "output_type": "stream",
          "name": "stdout",
          "text": [
            "words in vocabulary:  11\n",
            "['movie' 'horrible' 'recommend' 'liked' 'never' 'really' 'ever' 'watching'\n",
            " 'acting' 'alright' 'friends']\n",
            "CPU times: user 15.6 ms, sys: 3.73 ms, total: 19.3 ms\n",
            "Wall time: 1.56 s\n"
          ]
        }
      ]
    },
    {
      "cell_type": "markdown",
      "source": [
        "**TF-IDF (Term\n",
        "Frequency – Inverse Document Frequency)**\n",
        "\n",
        "This method tries to normalize the frequency of token occurrence based on other\n",
        "documents. The whole idea is to give more weight to the token if appearing high number\n",
        "of times in the same document but penalize if it is appearing higher number of times in\n",
        "other documents as well. This indicates that the token is common across the corpus and\n",
        "is not as important as its frequency in the current document indicates.\n",
        "\n",
        "*Term Frequency:* Score based on the frequency of the word in the current document.\n",
        "\n",
        "*Inverse Document Frequency*: Score based on the number of documents that\n",
        "contain the current word."
      ],
      "metadata": {
        "id": "RbwbKc7QTKc_"
      }
    },
    {
      "cell_type": "code",
      "source": [
        "%%time\n",
        "\n",
        "from pyspark.ml.feature import HashingTF, IDF\n",
        "\n",
        "hashing_vec = HashingTF(inputCol='refined_tokens',outputCol='tf_features')#, numFeatures=100)\n",
        "hashing_df = hashing_vec.transform(refined_df)\n",
        "hashing_df.select(['user_id','refined_tokens','tf_features']).show(4,False)\n",
        "\n",
        "#HashingTF converts documents to vectors of fixed size. The default feature dimension is 262,144."
      ],
      "metadata": {
        "colab": {
          "base_uri": "https://localhost:8080/"
        },
        "id": "5DpSFM4gGtRs",
        "outputId": "6f0082ba-7cec-4904-adee-9a9c82799729"
      },
      "execution_count": 10,
      "outputs": [
        {
          "output_type": "stream",
          "name": "stdout",
          "text": [
            "+-------+----------------------------------+-------------------------------------------------------+\n",
            "|user_id|refined_tokens                    |tf_features                                            |\n",
            "+-------+----------------------------------+-------------------------------------------------------+\n",
            "|1      |[really, liked, movie]            |(262144,[99172,210223,229264],[1.0,1.0,1.0])           |\n",
            "|2      |[recommend, movie, friends]       |(262144,[68228,130047,210223],[1.0,1.0,1.0])           |\n",
            "|3      |[movie, alright, acting, horrible]|(262144,[95685,171118,210223,236263],[1.0,1.0,1.0,1.0])|\n",
            "|4      |[never, watching, movie, ever]    |(262144,[63139,113673,203802,210223],[1.0,1.0,1.0,1.0])|\n",
            "+-------+----------------------------------+-------------------------------------------------------+\n",
            "\n",
            "CPU times: user 13 ms, sys: 3.45 ms, total: 16.5 ms\n",
            "Wall time: 1.39 s\n"
          ]
        }
      ]
    },
    {
      "cell_type": "code",
      "source": [
        "%%time\n",
        "\n",
        "tf_idf_vec=IDF(inputCol='tf_features',outputCol='tf_idf_features')\n",
        "tf_idf_df=tf_idf_vec.fit(hashing_df).transform(hashing_df)\n",
        "tf_idf_df.select(['user_id','tf_idf_features']).show(4,False)\n",
        "\n",
        "#IDF(minDocFreq: int = 0)\n",
        "#Inverse document frequency (IDF).\n",
        "#The standard formulation is used: idf = log[(m + 1) / (d(t) + 1)],\n",
        "#where m is the total number of documents\n",
        "#and d(t) is the number of documents that contain term t.\n",
        "#This implementation supports filtering out terms which do not appear\n",
        "#in a minimum number of documents (controlled by the variable minDocFreq).\n",
        "#For terms that are not in at least minDocFreq documents,\n",
        "#the IDF is found as 0, resulting in TF-IDFs of 0."
      ],
      "metadata": {
        "colab": {
          "base_uri": "https://localhost:8080/"
        },
        "id": "D2U3W32kIMB-",
        "outputId": "b6453a2f-f92f-490e-c42d-492b34bb051d"
      },
      "execution_count": 11,
      "outputs": [
        {
          "output_type": "stream",
          "name": "stdout",
          "text": [
            "+-------+----------------------------------------------------------------------------------------------------+\n",
            "|user_id|tf_idf_features                                                                                     |\n",
            "+-------+----------------------------------------------------------------------------------------------------+\n",
            "|1      |(262144,[99172,210223,229264],[0.9162907318741551,0.0,0.9162907318741551])                          |\n",
            "|2      |(262144,[68228,130047,210223],[0.9162907318741551,0.9162907318741551,0.0])                          |\n",
            "|3      |(262144,[95685,171118,210223,236263],[0.9162907318741551,0.9162907318741551,0.0,0.9162907318741551])|\n",
            "|4      |(262144,[63139,113673,203802,210223],[0.9162907318741551,0.9162907318741551,0.9162907318741551,0.0])|\n",
            "+-------+----------------------------------------------------------------------------------------------------+\n",
            "\n",
            "CPU times: user 39.9 ms, sys: 6.85 ms, total: 46.7 ms\n",
            "Wall time: 5.91 s\n"
          ]
        }
      ]
    },
    {
      "cell_type": "markdown",
      "source": [
        "**Text Classification Using Machine Learning**\n",
        "\n",
        "Here we are going to use the IMDB Dataset from Kaggle.\n",
        "\n",
        "https://www.kaggle.com/datasets/lakshmi25npathi/imdb-dataset-of-50k-movie-reviews/download?datasetVersionNumber=1"
      ],
      "metadata": {
        "id": "1P2cwLZqd_uS"
      }
    },
    {
      "cell_type": "code",
      "source": [
        "%%time\n",
        "\n",
        "filename = '/content/drive/MyDrive/colab_files/pyspark/imdb_dataset.csv'\n",
        "\n",
        "text_df = spark.read.format('csv') \\\n",
        "              .option(\"inferSchema\", False) \\\n",
        "              .option(\"header\", True) \\\n",
        "              .option(\"sep\", ',') \\\n",
        "              .option(\"quote\", \"\\\"\")\\\n",
        "              .option(\"escape\", \"\\\"\")\\\n",
        "              .load(filename)\n",
        "\n",
        "text_df.show(5, False)"
      ],
      "metadata": {
        "colab": {
          "base_uri": "https://localhost:8080/"
        },
        "id": "UYkY4CHRXKU_",
        "outputId": "6d6b2ee8-8aea-4301-96ac-5053eae82f80"
      },
      "execution_count": 12,
      "outputs": [
        {
          "output_type": "stream",
          "name": "stdout",
          "text": [
            "+---------------------------------------------------------------------------------------------------------------------------------------------------------------------------------------------------------------------------------------------------------------------------------------------------------------------------------------------------------------------------------------------------------------------------------------------------------------------------------------------------------------------------------------------------------------------------------------------------------------------------------------------------------------------------------------------------------------------------------------------------------------------------------------------------------------------------------------------------------------------------------------------------------------------------------------------------------------------------------------------------------------------------------------------------------------------------------------------------------------------------------------------------------------------------------------------------------------------------------------------------------------------------------------------------------------------------------------------------------------------------------------------------------------------------------------------------------------------------------------------------------------------------------------------------------------------------------------------------------------------------------------------------------------------------------------------------------------------------------------------------------------------------------------------------------------------------------+---------+\n",
            "|review                                                                                                                                                                                                                                                                                                                                                                                                                                                                                                                                                                                                                                                                                                                                                                                                                                                                                                                                                                                                                                                                                                                                                                                                                                                                                                                                                                                                                                                                                                                                                                                                                                                                                                                                                                                                                           |sentiment|\n",
            "+---------------------------------------------------------------------------------------------------------------------------------------------------------------------------------------------------------------------------------------------------------------------------------------------------------------------------------------------------------------------------------------------------------------------------------------------------------------------------------------------------------------------------------------------------------------------------------------------------------------------------------------------------------------------------------------------------------------------------------------------------------------------------------------------------------------------------------------------------------------------------------------------------------------------------------------------------------------------------------------------------------------------------------------------------------------------------------------------------------------------------------------------------------------------------------------------------------------------------------------------------------------------------------------------------------------------------------------------------------------------------------------------------------------------------------------------------------------------------------------------------------------------------------------------------------------------------------------------------------------------------------------------------------------------------------------------------------------------------------------------------------------------------------------------------------------------------------+---------+\n",
            "|One of the other reviewers has mentioned that after watching just 1 Oz episode you'll be hooked. They are right, as this is exactly what happened with me.<br /><br />The first thing that struck me about Oz was its brutality and unflinching scenes of violence, which set in right from the word GO. Trust me, this is not a show for the faint hearted or timid. This show pulls no punches with regards to drugs, sex or violence. Its is hardcore, in the classic use of the word.<br /><br />It is called OZ as that is the nickname given to the Oswald Maximum Security State Penitentary. It focuses mainly on Emerald City, an experimental section of the prison where all the cells have glass fronts and face inwards, so privacy is not high on the agenda. Em City is home to many..Aryans, Muslims, gangstas, Latinos, Christians, Italians, Irish and more....so scuffles, death stares, dodgy dealings and shady agreements are never far away.<br /><br />I would say the main appeal of the show is due to the fact that it goes where other shows wouldn't dare. Forget pretty pictures painted for mainstream audiences, forget charm, forget romance...OZ doesn't mess around. The first episode I ever saw struck me as so nasty it was surreal, I couldn't say I was ready for it, but as I watched more, I developed a taste for Oz, and got accustomed to the high levels of graphic violence. Not just violence, but injustice (crooked guards who'll be sold out for a nickel, inmates who'll kill on order and get away with it, well mannered, middle class inmates being turned into prison bitches due to their lack of street skills or prison experience) Watching Oz, you may become comfortable with what is uncomfortable viewing....thats if you can get in touch with your darker side.|positive |\n",
            "|A wonderful little production. <br /><br />The filming technique is very unassuming- very old-time-BBC fashion and gives a comforting, and sometimes discomforting, sense of realism to the entire piece. <br /><br />The actors are extremely well chosen- Michael Sheen not only \"has got all the polari\" but he has all the voices down pat too! You can truly see the seamless editing guided by the references to Williams' diary entries, not only is it well worth the watching but it is a terrificly written and performed piece. A masterful production about one of the great master's of comedy and his life. <br /><br />The realism really comes home with the little things: the fantasy of the guard which, rather than use the traditional 'dream' techniques remains solid then disappears. It plays on our knowledge and our senses, particularly with the scenes concerning Orton and Halliwell and the sets (particularly of their flat with Halliwell's murals decorating every surface) are terribly well done.                                                                                                                                                                                                                                                                                                                                                                                                                                                                                                                                                                                                                                                                                                                                                                                           |positive |\n",
            "|I thought this was a wonderful way to spend time on a too hot summer weekend, sitting in the air conditioned theater and watching a light-hearted comedy. The plot is simplistic, but the dialogue is witty and the characters are likable (even the well bread suspected serial killer). While some may be disappointed when they realize this is not Match Point 2: Risk Addiction, I thought it was proof that Woody Allen is still fully in control of the style many of us have grown to love.<br /><br />This was the most I'd laughed at one of Woody's comedies in years (dare I say a decade?). While I've never been impressed with Scarlet Johanson, in this she managed to tone down her \"sexy\" image and jumped right into a average, but spirited young woman.<br /><br />This may not be the crown jewel of his career, but it was wittier than \"Devil Wears Prada\" and more interesting than \"Superman\" a great comedy to go see with friends.                                                                                                                                                                                                                                                                                                                                                                                                                                                                                                                                                                                                                                                                                                                                                                                                                                                                   |positive |\n",
            "|Basically there's a family where a little boy (Jake) thinks there's a zombie in his closet & his parents are fighting all the time.<br /><br />This movie is slower than a soap opera... and suddenly, Jake decides to become Rambo and kill the zombie.<br /><br />OK, first of all when you're going to make a film you must Decide if its a thriller or a drama! As a drama the movie is watchable. Parents are divorcing & arguing like in real life. And then we have Jake with his closet which totally ruins all the film! I expected to see a BOOGEYMAN similar movie, and instead i watched a drama with some meaningless thriller spots.<br /><br />3 out of 10 just for the well playing parents & descent dialogs. As for the shots with Jake: just ignore them.                                                                                                                                                                                                                                                                                                                                                                                                                                                                                                                                                                                                                                                                                                                                                                                                                                                                                                                                                                                                                                                     |negative |\n",
            "|Petter Mattei's \"Love in the Time of Money\" is a visually stunning film to watch. Mr. Mattei offers us a vivid portrait about human relations. This is a movie that seems to be telling us what money, power and success do to people in the different situations we encounter. <br /><br />This being a variation on the Arthur Schnitzler's play about the same theme, the director transfers the action to the present time New York where all these different characters meet and connect. Each one is connected in one way, or another to the next person, but no one seems to know the previous point of contact. Stylishly, the film has a sophisticated luxurious look. We are taken to see how these people live and the world they live in their own habitat.<br /><br />The only thing one gets out of all these souls in the picture is the different stages of loneliness each one inhabits. A big city is not exactly the best place in which human relations find sincere fulfillment, as one discerns is the case with most of the people we encounter.<br /><br />The acting is good under Mr. Mattei's direction. Steve Buscemi, Rosario Dawson, Carol Kane, Michael Imperioli, Adrian Grenier, and the rest of the talented cast, make these characters come alive.<br /><br />We wish Mr. Mattei good luck and await anxiously for his next work.                                                                                                                                                                                                                                                                                                                                                                                                                                                            |positive |\n",
            "+---------------------------------------------------------------------------------------------------------------------------------------------------------------------------------------------------------------------------------------------------------------------------------------------------------------------------------------------------------------------------------------------------------------------------------------------------------------------------------------------------------------------------------------------------------------------------------------------------------------------------------------------------------------------------------------------------------------------------------------------------------------------------------------------------------------------------------------------------------------------------------------------------------------------------------------------------------------------------------------------------------------------------------------------------------------------------------------------------------------------------------------------------------------------------------------------------------------------------------------------------------------------------------------------------------------------------------------------------------------------------------------------------------------------------------------------------------------------------------------------------------------------------------------------------------------------------------------------------------------------------------------------------------------------------------------------------------------------------------------------------------------------------------------------------------------------------------+---------+\n",
            "only showing top 5 rows\n",
            "\n",
            "CPU times: user 11.8 ms, sys: 1.31 ms, total: 13.1 ms\n",
            "Wall time: 1.75 s\n"
          ]
        }
      ]
    },
    {
      "cell_type": "markdown",
      "source": [
        "If double-quotes are used to enclose fields, then a double-quote appearing inside a field must be escaped by preceding it with another double quote\n",
        "\n",
        "That's what Excel does, for example, by default.\n",
        "\n",
        "Although in Spark (as of Spark 2.1), escaping is done by default through non-RFC way, using backslah (\\\\). To fix this you have to explicitly tell Spark to use doublequote to use as an escape character:\n",
        "\n",
        ".option(\"quote\", \"\\\\\"\")\n",
        "\n",
        ".option(\"escape\", \"\\\\\"\")\n",
        "\n",
        "This may explain that a comma character wasn't interpreted correctly as it was inside a quoted column.\n",
        "\n",
        "Options for Spark csv format are not documented well on Apache Spark site, but here's a bit older documentation which can be useful quite often:\n",
        "\n",
        "https://github.com/databricks/spark-csv"
      ],
      "metadata": {
        "id": "36nFB0N4i8Aa"
      }
    },
    {
      "cell_type": "code",
      "source": [
        "%%time\n",
        "\n",
        "text_df.groupBy('sentiment').count().show()"
      ],
      "metadata": {
        "colab": {
          "base_uri": "https://localhost:8080/"
        },
        "id": "8uGyYxe5rz9I",
        "outputId": "d4564338-57a0-48a4-91d0-42ef5e6dfac6"
      },
      "execution_count": 13,
      "outputs": [
        {
          "output_type": "stream",
          "name": "stdout",
          "text": [
            "+---------+-----+\n",
            "|sentiment|count|\n",
            "+---------+-----+\n",
            "| positive|25000|\n",
            "| negative|25000|\n",
            "+---------+-----+\n",
            "\n",
            "CPU times: user 18.5 ms, sys: 1.21 ms, total: 19.8 ms\n",
            "Wall time: 2.89 s\n"
          ]
        }
      ]
    },
    {
      "cell_type": "code",
      "source": [
        "%%time\n",
        "\n",
        "from pyspark.ml.feature import StringIndexer\n",
        "\n",
        "indexer = StringIndexer(inputCol=\"sentiment\", outputCol=\"sentiment_index\",\n",
        "                        stringOrderType=\"frequencyDesc\").fit(text_df)\n",
        "\n",
        "text_df = indexer.transform(text_df)\n",
        "text_df.show(5, False)"
      ],
      "metadata": {
        "colab": {
          "base_uri": "https://localhost:8080/"
        },
        "id": "8bUqOSG-k9AR",
        "outputId": "d1763cb0-995b-49f3-efe5-f0ead4f089e7"
      },
      "execution_count": 14,
      "outputs": [
        {
          "output_type": "stream",
          "name": "stdout",
          "text": [
            "+---------------------------------------------------------------------------------------------------------------------------------------------------------------------------------------------------------------------------------------------------------------------------------------------------------------------------------------------------------------------------------------------------------------------------------------------------------------------------------------------------------------------------------------------------------------------------------------------------------------------------------------------------------------------------------------------------------------------------------------------------------------------------------------------------------------------------------------------------------------------------------------------------------------------------------------------------------------------------------------------------------------------------------------------------------------------------------------------------------------------------------------------------------------------------------------------------------------------------------------------------------------------------------------------------------------------------------------------------------------------------------------------------------------------------------------------------------------------------------------------------------------------------------------------------------------------------------------------------------------------------------------------------------------------------------------------------------------------------------------------------------------------------------------------------------------------------------+---------+---------------+\n",
            "|review                                                                                                                                                                                                                                                                                                                                                                                                                                                                                                                                                                                                                                                                                                                                                                                                                                                                                                                                                                                                                                                                                                                                                                                                                                                                                                                                                                                                                                                                                                                                                                                                                                                                                                                                                                                                                           |sentiment|sentiment_index|\n",
            "+---------------------------------------------------------------------------------------------------------------------------------------------------------------------------------------------------------------------------------------------------------------------------------------------------------------------------------------------------------------------------------------------------------------------------------------------------------------------------------------------------------------------------------------------------------------------------------------------------------------------------------------------------------------------------------------------------------------------------------------------------------------------------------------------------------------------------------------------------------------------------------------------------------------------------------------------------------------------------------------------------------------------------------------------------------------------------------------------------------------------------------------------------------------------------------------------------------------------------------------------------------------------------------------------------------------------------------------------------------------------------------------------------------------------------------------------------------------------------------------------------------------------------------------------------------------------------------------------------------------------------------------------------------------------------------------------------------------------------------------------------------------------------------------------------------------------------------+---------+---------------+\n",
            "|One of the other reviewers has mentioned that after watching just 1 Oz episode you'll be hooked. They are right, as this is exactly what happened with me.<br /><br />The first thing that struck me about Oz was its brutality and unflinching scenes of violence, which set in right from the word GO. Trust me, this is not a show for the faint hearted or timid. This show pulls no punches with regards to drugs, sex or violence. Its is hardcore, in the classic use of the word.<br /><br />It is called OZ as that is the nickname given to the Oswald Maximum Security State Penitentary. It focuses mainly on Emerald City, an experimental section of the prison where all the cells have glass fronts and face inwards, so privacy is not high on the agenda. Em City is home to many..Aryans, Muslims, gangstas, Latinos, Christians, Italians, Irish and more....so scuffles, death stares, dodgy dealings and shady agreements are never far away.<br /><br />I would say the main appeal of the show is due to the fact that it goes where other shows wouldn't dare. Forget pretty pictures painted for mainstream audiences, forget charm, forget romance...OZ doesn't mess around. The first episode I ever saw struck me as so nasty it was surreal, I couldn't say I was ready for it, but as I watched more, I developed a taste for Oz, and got accustomed to the high levels of graphic violence. Not just violence, but injustice (crooked guards who'll be sold out for a nickel, inmates who'll kill on order and get away with it, well mannered, middle class inmates being turned into prison bitches due to their lack of street skills or prison experience) Watching Oz, you may become comfortable with what is uncomfortable viewing....thats if you can get in touch with your darker side.|positive |1.0            |\n",
            "|A wonderful little production. <br /><br />The filming technique is very unassuming- very old-time-BBC fashion and gives a comforting, and sometimes discomforting, sense of realism to the entire piece. <br /><br />The actors are extremely well chosen- Michael Sheen not only \"has got all the polari\" but he has all the voices down pat too! You can truly see the seamless editing guided by the references to Williams' diary entries, not only is it well worth the watching but it is a terrificly written and performed piece. A masterful production about one of the great master's of comedy and his life. <br /><br />The realism really comes home with the little things: the fantasy of the guard which, rather than use the traditional 'dream' techniques remains solid then disappears. It plays on our knowledge and our senses, particularly with the scenes concerning Orton and Halliwell and the sets (particularly of their flat with Halliwell's murals decorating every surface) are terribly well done.                                                                                                                                                                                                                                                                                                                                                                                                                                                                                                                                                                                                                                                                                                                                                                                           |positive |1.0            |\n",
            "|I thought this was a wonderful way to spend time on a too hot summer weekend, sitting in the air conditioned theater and watching a light-hearted comedy. The plot is simplistic, but the dialogue is witty and the characters are likable (even the well bread suspected serial killer). While some may be disappointed when they realize this is not Match Point 2: Risk Addiction, I thought it was proof that Woody Allen is still fully in control of the style many of us have grown to love.<br /><br />This was the most I'd laughed at one of Woody's comedies in years (dare I say a decade?). While I've never been impressed with Scarlet Johanson, in this she managed to tone down her \"sexy\" image and jumped right into a average, but spirited young woman.<br /><br />This may not be the crown jewel of his career, but it was wittier than \"Devil Wears Prada\" and more interesting than \"Superman\" a great comedy to go see with friends.                                                                                                                                                                                                                                                                                                                                                                                                                                                                                                                                                                                                                                                                                                                                                                                                                                                                   |positive |1.0            |\n",
            "|Basically there's a family where a little boy (Jake) thinks there's a zombie in his closet & his parents are fighting all the time.<br /><br />This movie is slower than a soap opera... and suddenly, Jake decides to become Rambo and kill the zombie.<br /><br />OK, first of all when you're going to make a film you must Decide if its a thriller or a drama! As a drama the movie is watchable. Parents are divorcing & arguing like in real life. And then we have Jake with his closet which totally ruins all the film! I expected to see a BOOGEYMAN similar movie, and instead i watched a drama with some meaningless thriller spots.<br /><br />3 out of 10 just for the well playing parents & descent dialogs. As for the shots with Jake: just ignore them.                                                                                                                                                                                                                                                                                                                                                                                                                                                                                                                                                                                                                                                                                                                                                                                                                                                                                                                                                                                                                                                     |negative |0.0            |\n",
            "|Petter Mattei's \"Love in the Time of Money\" is a visually stunning film to watch. Mr. Mattei offers us a vivid portrait about human relations. This is a movie that seems to be telling us what money, power and success do to people in the different situations we encounter. <br /><br />This being a variation on the Arthur Schnitzler's play about the same theme, the director transfers the action to the present time New York where all these different characters meet and connect. Each one is connected in one way, or another to the next person, but no one seems to know the previous point of contact. Stylishly, the film has a sophisticated luxurious look. We are taken to see how these people live and the world they live in their own habitat.<br /><br />The only thing one gets out of all these souls in the picture is the different stages of loneliness each one inhabits. A big city is not exactly the best place in which human relations find sincere fulfillment, as one discerns is the case with most of the people we encounter.<br /><br />The acting is good under Mr. Mattei's direction. Steve Buscemi, Rosario Dawson, Carol Kane, Michael Imperioli, Adrian Grenier, and the rest of the talented cast, make these characters come alive.<br /><br />We wish Mr. Mattei good luck and await anxiously for his next work.                                                                                                                                                                                                                                                                                                                                                                                                                                                            |positive |1.0            |\n",
            "+---------------------------------------------------------------------------------------------------------------------------------------------------------------------------------------------------------------------------------------------------------------------------------------------------------------------------------------------------------------------------------------------------------------------------------------------------------------------------------------------------------------------------------------------------------------------------------------------------------------------------------------------------------------------------------------------------------------------------------------------------------------------------------------------------------------------------------------------------------------------------------------------------------------------------------------------------------------------------------------------------------------------------------------------------------------------------------------------------------------------------------------------------------------------------------------------------------------------------------------------------------------------------------------------------------------------------------------------------------------------------------------------------------------------------------------------------------------------------------------------------------------------------------------------------------------------------------------------------------------------------------------------------------------------------------------------------------------------------------------------------------------------------------------------------------------------------------+---------+---------------+\n",
            "only showing top 5 rows\n",
            "\n",
            "CPU times: user 24.1 ms, sys: 2.13 ms, total: 26.3 ms\n",
            "Wall time: 2.08 s\n"
          ]
        }
      ]
    },
    {
      "cell_type": "code",
      "source": [
        "%%time\n",
        "\n",
        "text_df.groupBy('sentiment', 'sentiment_index').count().show()"
      ],
      "metadata": {
        "colab": {
          "base_uri": "https://localhost:8080/"
        },
        "id": "mY4X38z3uUGt",
        "outputId": "ea18fc68-b89b-4c26-c9ee-1aa765df03aa"
      },
      "execution_count": 15,
      "outputs": [
        {
          "output_type": "stream",
          "name": "stdout",
          "text": [
            "+---------+---------------+-----+\n",
            "|sentiment|sentiment_index|count|\n",
            "+---------+---------------+-----+\n",
            "| negative|            0.0|25000|\n",
            "| positive|            1.0|25000|\n",
            "+---------+---------------+-----+\n",
            "\n",
            "CPU times: user 9.61 ms, sys: 343 µs, total: 9.96 ms\n",
            "Wall time: 1.27 s\n"
          ]
        }
      ]
    },
    {
      "cell_type": "code",
      "source": [
        "%%time\n",
        "print('Number of records: ', text_df.count())\n",
        "text_df=text_df.filter(((text_df.sentiment_index ==1.0) | (text_df.sentiment_index ==0.0)))\n",
        "print('Records labeled correctly: ', text_df.count())"
      ],
      "metadata": {
        "colab": {
          "base_uri": "https://localhost:8080/"
        },
        "id": "lGQJrLtBfpna",
        "outputId": "2cf32479-31d4-4cf3-bb46-51eb7f3530a8"
      },
      "execution_count": 16,
      "outputs": [
        {
          "output_type": "stream",
          "name": "stdout",
          "text": [
            "Number of records:  50000\n",
            "Records labeled correctly:  50000\n",
            "CPU times: user 14 ms, sys: 1.11 ms, total: 15.1 ms\n",
            "Wall time: 1.73 s\n"
          ]
        }
      ]
    },
    {
      "cell_type": "code",
      "source": [
        "%%time\n",
        "#include an additional column that captures the length of the review\n",
        "\n",
        "text_df = text_df.withColumn('length',F.length(text_df['review']))\n",
        "text_df.orderBy(F.rand()).show(10)\n",
        "\n",
        "print('Mean length of reviews per sentiment type')\n",
        "text_df.groupBy('sentiment_index').agg({'length':'mean'}).show()"
      ],
      "metadata": {
        "colab": {
          "base_uri": "https://localhost:8080/"
        },
        "id": "w3NWhxTHkFyS",
        "outputId": "970062cc-d626-45b8-94e1-9d0194d2176a"
      },
      "execution_count": 17,
      "outputs": [
        {
          "output_type": "stream",
          "name": "stdout",
          "text": [
            "+--------------------+---------+---------------+------+\n",
            "|              review|sentiment|sentiment_index|length|\n",
            "+--------------------+---------+---------------+------+\n",
            "|Del - \"You are th...| negative|            0.0|   752|\n",
            "|I haven't seen ma...| negative|            0.0|   681|\n",
            "|Everyone involved...| negative|            0.0|   731|\n",
            "|While this isn't ...| negative|            0.0|  1575|\n",
            "|the only scenes w...| negative|            0.0|   601|\n",
            "|Undoubtedly one o...| positive|            1.0|  2057|\n",
            "|This is a stupid ...| negative|            0.0|  1058|\n",
            "|This is a very st...| positive|            1.0|  2043|\n",
            "|This one was marr...| negative|            0.0|  2219|\n",
            "|First of all, des...| positive|            1.0|  4771|\n",
            "+--------------------+---------+---------------+------+\n",
            "only showing top 10 rows\n",
            "\n",
            "Mean length of reviews per sentiment type\n",
            "+---------------+-----------+\n",
            "|sentiment_index|avg(length)|\n",
            "+---------------+-----------+\n",
            "|            0.0| 1294.06436|\n",
            "|            1.0| 1324.79768|\n",
            "+---------------+-----------+\n",
            "\n",
            "CPU times: user 28.4 ms, sys: 3.09 ms, total: 31.5 ms\n",
            "Wall time: 3.87 s\n"
          ]
        }
      ]
    },
    {
      "cell_type": "code",
      "source": [
        "%%time\n",
        "#Tokenization\n",
        "\n",
        "tokenization = Tokenizer(inputCol='review',outputCol='tokens')\n",
        "tokenized_df = tokenization.transform(text_df)\n",
        "tokenized_df.show(5)"
      ],
      "metadata": {
        "colab": {
          "base_uri": "https://localhost:8080/"
        },
        "id": "Kyw-EljpvVCg",
        "outputId": "98272827-71e9-4b74-ba26-74d534dbf08a"
      },
      "execution_count": 18,
      "outputs": [
        {
          "output_type": "stream",
          "name": "stdout",
          "text": [
            "+--------------------+---------+---------------+------+--------------------+\n",
            "|              review|sentiment|sentiment_index|length|              tokens|\n",
            "+--------------------+---------+---------------+------+--------------------+\n",
            "|One of the other ...| positive|            1.0|  1761|[one, of, the, ot...|\n",
            "|A wonderful littl...| positive|            1.0|   998|[a, wonderful, li...|\n",
            "|I thought this wa...| positive|            1.0|   926|[i, thought, this...|\n",
            "|Basically there's...| negative|            0.0|   748|[basically, there...|\n",
            "|Petter Mattei's \"...| positive|            1.0|  1317|[petter, mattei's...|\n",
            "+--------------------+---------+---------------+------+--------------------+\n",
            "only showing top 5 rows\n",
            "\n",
            "CPU times: user 9.46 ms, sys: 1.24 ms, total: 10.7 ms\n",
            "Wall time: 671 ms\n"
          ]
        }
      ]
    },
    {
      "cell_type": "code",
      "source": [
        "%%time\n",
        "#Stopword removal\n",
        "\n",
        "stopword_removal = StopWordsRemover(inputCol='tokens',outputCol='refined_tokens')\n",
        "refined_text_df  = stopword_removal.transform(tokenized_df)\n",
        "refined_text_df.show(5)"
      ],
      "metadata": {
        "colab": {
          "base_uri": "https://localhost:8080/"
        },
        "id": "kYN67Deywv97",
        "outputId": "76ac1b9f-a1d3-4c3a-8982-4ba92d15cf6f"
      },
      "execution_count": 19,
      "outputs": [
        {
          "output_type": "stream",
          "name": "stdout",
          "text": [
            "+--------------------+---------+---------------+------+--------------------+--------------------+\n",
            "|              review|sentiment|sentiment_index|length|              tokens|      refined_tokens|\n",
            "+--------------------+---------+---------------+------+--------------------+--------------------+\n",
            "|One of the other ...| positive|            1.0|  1761|[one, of, the, ot...|[one, reviewers, ...|\n",
            "|A wonderful littl...| positive|            1.0|   998|[a, wonderful, li...|[wonderful, littl...|\n",
            "|I thought this wa...| positive|            1.0|   926|[i, thought, this...|[thought, wonderf...|\n",
            "|Basically there's...| negative|            0.0|   748|[basically, there...|[basically, famil...|\n",
            "|Petter Mattei's \"...| positive|            1.0|  1317|[petter, mattei's...|[petter, mattei's...|\n",
            "+--------------------+---------+---------------+------+--------------------+--------------------+\n",
            "only showing top 5 rows\n",
            "\n",
            "CPU times: user 22.8 ms, sys: 17.3 ms, total: 40.1 ms\n",
            "Wall time: 402 ms\n"
          ]
        }
      ]
    },
    {
      "cell_type": "code",
      "source": [
        "%%time\n",
        "#counting tokens per review\n",
        "\n",
        "@F.udf(returnType=IntegerType())\n",
        "def length_list(token_list):\n",
        "    #return the number of tokens\n",
        "    return len(token_list)\n",
        "\n",
        "refined_text_df = refined_text_df.withColumn(\"token_count\", length_list('refined_tokens'))\n",
        "refined_text_df.orderBy(F.rand()).show(5)\n",
        "\n",
        "print('Mean number of tokens per review per sentiment type')\n",
        "refined_text_df.groupBy('sentiment_index' ).agg({'token_count':'mean'}).show()"
      ],
      "metadata": {
        "colab": {
          "base_uri": "https://localhost:8080/"
        },
        "id": "qqb-v63pxIVz",
        "outputId": "03377750-79cb-49b0-cf69-201df639186f"
      },
      "execution_count": 20,
      "outputs": [
        {
          "output_type": "stream",
          "name": "stdout",
          "text": [
            "+--------------------+---------+---------------+------+--------------------+--------------------+-----------+\n",
            "|              review|sentiment|sentiment_index|length|              tokens|      refined_tokens|token_count|\n",
            "+--------------------+---------+---------------+------+--------------------+--------------------+-----------+\n",
            "|CONTAINS \"SPOILER...| positive|            1.0|  2175|[contains, \"spoil...|[contains, \"spoil...|        197|\n",
            "|Clyde Bruckman bo...| positive|            1.0|   772|[clyde, bruckman,...|[clyde, bruckman,...|         80|\n",
            "|Loved today's sho...| positive|            1.0|   792|[loved, today's, ...|[loved, today's, ...|         70|\n",
            "|I've seen a few o...| positive|            1.0|  1496|[i've, seen, a, f...|[seen, mr., boorm...|        146|\n",
            "|WEEE this is stil...| positive|            1.0|   418|[weee, this, is, ...|[weee, still, jol...|         38|\n",
            "+--------------------+---------+---------------+------+--------------------+--------------------+-----------+\n",
            "only showing top 5 rows\n",
            "\n",
            "Mean number of tokens per review per sentiment type\n",
            "+---------------+----------------+\n",
            "|sentiment_index|avg(token_count)|\n",
            "+---------------+----------------+\n",
            "|            0.0|       123.93096|\n",
            "|            1.0|       126.98684|\n",
            "+---------------+----------------+\n",
            "\n",
            "CPU times: user 178 ms, sys: 23.9 ms, total: 202 ms\n",
            "Wall time: 34.6 s\n"
          ]
        }
      ]
    },
    {
      "cell_type": "markdown",
      "source": [
        "Now that we have the refined tokens after stopword removal, we can use any of\n",
        "the preceding approaches (CountVectorizer/TF-IDF) to convert text into numerical features."
      ],
      "metadata": {
        "id": "4jYcgb6M23kS"
      }
    },
    {
      "cell_type": "code",
      "source": [
        "from pyspark.ml.feature import VectorAssembler\n",
        "from pyspark.ml.classification import LogisticRegression\n",
        "#We could use any of the classification model on this data\n",
        "from pyspark.ml.evaluation import BinaryClassificationEvaluator\n",
        "import matplotlib.pyplot as plt\n",
        "import numpy as np\n",
        "import pandas as pd"
      ],
      "metadata": {
        "id": "nqNbvXcP-gUI"
      },
      "execution_count": 21,
      "outputs": []
    },
    {
      "cell_type": "code",
      "source": [
        "from pylab import rcParams\n",
        "rcParams['figure.figsize'] = 12, 8\n",
        "\n",
        "#By definition a confusion matrix C is such that C[i,j] is equal to the\n",
        "#number of observations known to be in group i  and predicted to be in group j.\n",
        "#Thus in binary classification, the count of true negatives is C[0,0],\n",
        "#false negatives is C[1,0],\n",
        "#true positives is C[1,1],\n",
        "# and false positives is C[0,1].\n",
        "\n",
        "def pyspark_confusion_matrix(df, ground_truth_col, prediction_col):\n",
        "    '''\n",
        "    #build the confusion matrix from a pyspark dataframe (df)\n",
        "    ground_truth_col:  known labels\n",
        "    prediction_col: labels predicted by the model\n",
        "    '''\n",
        "    true_labels = df.select(ground_truth_col).distinct().sort(ground_truth_col).toPandas()[ground_truth_col].tolist()\n",
        "    true_labels = [str(int(float(j))) for j in true_labels]\n",
        "\n",
        "    predicted_labels = df.select(prediction_col).distinct().sort(prediction_col).toPandas()[prediction_col].tolist()\n",
        "    predicted_labels = [str(int(float(j))) for j in predicted_labels]\n",
        "\n",
        "    missing_cols = [j for j in true_labels if j not in predicted_labels]\n",
        "\n",
        "    cf = df.groupBy(ground_truth_col).pivot(prediction_col).count().sort(ground_truth_col).fillna(0)\n",
        "    cf_cols = cf.columns\n",
        "    cf_cols.remove(cf.columns[0])\n",
        "    cf_cols_new = [str(int(float(j))) for j in cf_cols]\n",
        "\n",
        "    for j in range(len(cf_cols)):\n",
        "        cf = cf.withColumnRenamed(cf_cols[j], cf_cols_new[j])\n",
        "\n",
        "    for j in range(len(missing_cols)):\n",
        "        cf = cf.withColumn(missing_cols[j], F.lit('0').cast(IntegerType()))\n",
        "\n",
        "    cf = cf.select(ground_truth_col,*true_labels).withColumnRenamed(ground_truth_col, '')\n",
        "\n",
        "    return cf.toPandas()\n",
        "\n",
        "def binary_classification_metrics(conf_matrix):\n",
        "    '''\n",
        "    given the confusion matrix of a binary classification model\n",
        "    we calculate several metrics to evaluate the model\n",
        "    conf_matrix: pandas dataframe obtained after applying the function pyspark_confusion_matrix\n",
        "    '''\n",
        "\n",
        "    matrix = conf_matrix.iloc[:,1:].values\n",
        "\n",
        "    total_samples = matrix.sum()\n",
        "\n",
        "    true_negatives = matrix[0,0],\n",
        "    false_negatives = matrix[1,0],\n",
        "    true_positives = matrix[1,1],\n",
        "    false_positives = matrix[0,1],\n",
        "\n",
        "    metrics = {\n",
        "        'accuracy': [(true_negatives[0]+true_positives[0])/total_samples],\n",
        "        'recall_0': [true_negatives[0]/(true_negatives[0]+false_positives[0])],\n",
        "        'recall_1': [true_positives[0]/(true_positives[0]+false_negatives[0])],\n",
        "        'precision_0': [true_negatives[0]/(true_negatives[0]+false_negatives[0])],\n",
        "        'precision_1': [true_positives[0]/(true_positives[0]+false_positives[0])],\n",
        "        'true_negatives': [true_negatives[0]],\n",
        "        'false_negatives': [false_negatives[0]],\n",
        "        'true_positives': [true_positives[0]],\n",
        "        'false_positives': [false_positives[0]]\n",
        "\n",
        "            }\n",
        "\n",
        "    metrics['f1'] = 2*metrics['recall_1'][0]*metrics['precision_1'][0]/(metrics['recall_1'][0]+metrics['precision_1'][0])\n",
        "\n",
        "    return metrics"
      ],
      "metadata": {
        "id": "HRzjvzdoEs_W"
      },
      "execution_count": 22,
      "outputs": []
    },
    {
      "cell_type": "code",
      "source": [
        "%%time\n",
        "\n",
        "#working with CountVectorizer\n",
        "count_vec = CountVectorizer(inputCol='refined_tokens',outputCol='features_cv')\n",
        "cv_text_df = count_vec.fit(refined_text_df).transform(refined_text_df)\n",
        "model_cv_text_df = cv_text_df.select(['features_cv','token_count','sentiment_index'])\n",
        "cv_text_df.select(['refined_tokens','token_count','features_cv','sentiment_index']).show(5)\n",
        "\n",
        "df_assembler = VectorAssembler(inputCols=['features_cv','token_count'],outputCol='features_cv_vec')\n",
        "model_cv_text_df = df_assembler.transform(model_cv_text_df)\n",
        "model_cv_text_df.printSchema()\n",
        "\n",
        "#spliting the dataset\n",
        "training_df,test_df = model_cv_text_df.randomSplit([0.75,0.25])\n",
        "trdf = training_df.groupBy('sentiment_index').count().withColumnRenamed('count', 'count_training')\n",
        "tsdf = test_df.groupBy('sentiment_index').count().withColumnRenamed('count', 'count_test')\n",
        "trdf = trdf.join(tsdf, 'sentiment_index', how='inner')\n",
        "print('Distribution of training and test datasets')\n",
        "trdf.show()\n",
        "\n",
        "\n",
        "#training and evaluating the model\n",
        "log_reg = LogisticRegression(featuresCol='features_cv_vec',labelCol='sentiment_index').fit(training_df)\n",
        "log_reg_preds = log_reg.transform(test_df)\n",
        "#results = log_reg.evaluate(test_df).predictions\n",
        "log_reg_preds.show()\n",
        "\n",
        "lrEval = BinaryClassificationEvaluator(labelCol='sentiment_index')\n",
        "print('Test Area Under ROC', lrEval.evaluate(log_reg_preds))\n",
        "\n",
        "\n",
        "\n",
        "beta = np.sort(log_reg.coefficients)\n",
        "trainingSummary = log_reg.summary\n",
        "lrROC = trainingSummary.roc.toPandas()\n",
        "print('Training set areaUnderROC: ' + str(trainingSummary.areaUnderROC))\n",
        "pr = trainingSummary.pr.toPandas()\n",
        "\n",
        "#confusion matrix\n",
        "cm = pyspark_confusion_matrix(log_reg_preds, 'sentiment_index', 'prediction')\n",
        "metrics = binary_classification_metrics(cm)\n",
        "\n",
        "\n",
        "print('Plotting')\n",
        "\n",
        "plt.subplot(221)\n",
        "plt.plot(beta)\n",
        "plt.ylabel('Beta Coefficients')\n",
        "\n",
        "plt.subplot(222)\n",
        "plt.plot(lrROC['FPR'],lrROC['TPR'])\n",
        "plt.ylabel('False Positive Rate')\n",
        "plt.xlabel('True Positive Rate')\n",
        "plt.title('ROC Curve')\n",
        "\n",
        "plt.subplot(223)\n",
        "plt.plot(pr['recall'],pr['precision'])\n",
        "plt.ylabel('Precision')\n",
        "plt.xlabel('Recall')\n",
        "\n",
        "plt.subplot(224)\n",
        "cmp = cm.iloc[:,1:].values\n",
        "ax = sns.heatmap(cmp, annot=True,fmt='g')\n",
        "#ax.invert_xaxis()\n",
        "ax.invert_yaxis()\n",
        "plt.ylabel('Actual')\n",
        "plt.xlabel('Predicted')\n",
        "\n",
        "# set the spacing between subplots\n",
        "plt.subplots_adjust(left=0.1,\n",
        "                    bottom=0.1,\n",
        "                    right=0.9,\n",
        "                    top=0.9,\n",
        "                    wspace=0.4,\n",
        "                    hspace=0.4)\n",
        "plt.show()\n",
        "\n",
        "\n",
        "display(pd.DataFrame(metrics))"
      ],
      "metadata": {
        "colab": {
          "base_uri": "https://localhost:8080/",
          "height": 1000
        },
        "id": "XPxd2jvnzhoH",
        "outputId": "a7cf7416-f323-47c0-ed70-b29c674257cc"
      },
      "execution_count": 23,
      "outputs": [
        {
          "output_type": "stream",
          "name": "stdout",
          "text": [
            "+--------------------+-----------+--------------------+---------------+\n",
            "|      refined_tokens|token_count|         features_cv|sentiment_index|\n",
            "+--------------------+-----------+--------------------+---------------+\n",
            "|[one, reviewers, ...|        173|(262144,[0,3,10,1...|            1.0|\n",
            "|[wonderful, littl...|         96|(262144,[0,3,7,8,...|            1.0|\n",
            "|[thought, wonderf...|         88|(262144,[0,3,8,14...|            1.0|\n",
            "|[basically, famil...|         74|(262144,[0,1,2,4,...|            0.0|\n",
            "|[petter, mattei's...|        134|(262144,[0,1,2,3,...|            1.0|\n",
            "+--------------------+-----------+--------------------+---------------+\n",
            "only showing top 5 rows\n",
            "\n",
            "root\n",
            " |-- features_cv: vector (nullable = true)\n",
            " |-- token_count: integer (nullable = true)\n",
            " |-- sentiment_index: double (nullable = false)\n",
            " |-- features_cv_vec: vector (nullable = true)\n",
            "\n",
            "Distribution of training and test datasets\n",
            "+---------------+--------------+----------+\n",
            "|sentiment_index|count_training|count_test|\n",
            "+---------------+--------------+----------+\n",
            "|            0.0|         18676|      6324|\n",
            "|            1.0|         18715|      6285|\n",
            "+---------------+--------------+----------+\n",
            "\n",
            "+--------------------+-----------+---------------+--------------------+--------------------+--------------------+----------+\n",
            "|         features_cv|token_count|sentiment_index|     features_cv_vec|       rawPrediction|         probability|prediction|\n",
            "+--------------------+-----------+---------------+--------------------+--------------------+--------------------+----------+\n",
            "|(262144,[0,1,2,3,...|        498|            1.0|(262145,[0,1,2,3,...|[-31.621677567363...|[1.84875739411022...|       1.0|\n",
            "|(262144,[0,1,2,3,...|        745|            0.0|(262145,[0,1,2,3,...|[77.1038097750392...|           [1.0,0.0]|       0.0|\n",
            "|(262144,[0,1,2,3,...|        470|            0.0|(262145,[0,1,2,3,...|[84.6995791705670...|           [1.0,0.0]|       0.0|\n",
            "|(262144,[0,1,2,3,...|        181|            0.0|(262145,[0,1,2,3,...|[16.3155448379131...|[0.99999991791782...|       0.0|\n",
            "|(262144,[0,1,2,3,...|        236|            1.0|(262145,[0,1,2,3,...|[-47.257862369437...|[2.99344405815728...|       1.0|\n",
            "|(262144,[0,1,2,3,...|        292|            1.0|(262145,[0,1,2,3,...|[-54.858379367420...|[1.49729906909130...|       1.0|\n",
            "|(262144,[0,1,2,3,...|        183|            1.0|(262145,[0,1,2,3,...|[-35.442990309457...|[4.04860014616134...|       1.0|\n",
            "|(262144,[0,1,2,3,...|        303|            1.0|(262145,[0,1,2,3,...|[20.1869899159423...|[0.99999999829037...|       0.0|\n",
            "|(262144,[0,1,2,3,...|        276|            1.0|(262145,[0,1,2,3,...|[-37.376491452086...|[5.85593179060562...|       1.0|\n",
            "|(262144,[0,1,2,3,...|        541|            0.0|(262145,[0,1,2,3,...|[36.8091630421255...|           [1.0,0.0]|       0.0|\n",
            "|(262144,[0,1,2,3,...|        488|            0.0|(262145,[0,1,2,3,...|[54.9782224907523...|           [1.0,0.0]|       0.0|\n",
            "|(262144,[0,1,2,3,...|        392|            1.0|(262145,[0,1,2,3,...|[-23.120511009099...|[9.09682101741157...|       1.0|\n",
            "|(262144,[0,1,2,3,...|        405|            1.0|(262145,[0,1,2,3,...|[-52.136868432643...|[2.27638510891631...|       1.0|\n",
            "|(262144,[0,1,2,3,...|        380|            0.0|(262145,[0,1,2,3,...|[59.1879855763917...|           [1.0,0.0]|       0.0|\n",
            "|(262144,[0,1,2,3,...|        388|            0.0|(262145,[0,1,2,3,...|[34.1073652870871...|[0.99999999999999...|       0.0|\n",
            "|(262144,[0,1,2,3,...|        653|            1.0|(262145,[0,1,2,3,...|[17.1610773910320...|[0.99999996475976...|       0.0|\n",
            "|(262144,[0,1,2,3,...|        426|            0.0|(262145,[0,1,2,3,...|[50.5920267273685...|           [1.0,0.0]|       0.0|\n",
            "|(262144,[0,1,2,3,...|        294|            0.0|(262145,[0,1,2,3,...|[31.8381659893914...|[0.99999999999998...|       0.0|\n",
            "|(262144,[0,1,2,3,...|        351|            1.0|(262145,[0,1,2,3,...|[-28.708005917775...|[3.40621018701970...|       1.0|\n",
            "|(262144,[0,1,2,3,...|        220|            0.0|(262145,[0,1,2,3,...|[18.0061786213789...|[0.99999998486383...|       0.0|\n",
            "+--------------------+-----------+---------------+--------------------+--------------------+--------------------+----------+\n",
            "only showing top 20 rows\n",
            "\n",
            "Test Area Under ROC 0.9247973398305358\n",
            "Training set areaUnderROC: 0.9999998569472182\n",
            "Plotting\n"
          ]
        },
        {
          "output_type": "display_data",
          "data": {
            "text/plain": [
              "<Figure size 1200x800 with 5 Axes>"
            ],
            "image/png": "[encoded data removed]"
          },
          "metadata": {}
        },
        {
          "output_type": "display_data",
          "data": {
            "text/plain": [
              "   accuracy  recall_0  recall_1  precision_0  precision_1  true_negatives  \\\n",
              "0  0.853597  0.835863   0.87144     0.867411     0.840675            5286   \n",
              "\n",
              "   false_negatives  true_positives  false_positives        f1  \n",
              "0              808            5477             1038  0.855781  "
            ],
            "text/html": [
              "\n",
              "  <div id=\"df-d618ba0c-bc32-4869-bc03-063b53c8795e\" class=\"colab-df-container\">\n",
              "    <div>\n",
              "<style scoped>\n",
              "    .dataframe tbody tr th:only-of-type {\n",
              "        vertical-align: middle;\n",
              "    }\n",
              "\n",
              "    .dataframe tbody tr th {\n",
              "        vertical-align: top;\n",
              "    }\n",
              "\n",
              "    .dataframe thead th {\n",
              "        text-align: right;\n",
              "    }\n",
              "</style>\n",
              "<table border=\"1\" class=\"dataframe\">\n",
              "  <thead>\n",
              "    <tr style=\"text-align: right;\">\n",
              "      <th></th>\n",
              "      <th>accuracy</th>\n",
              "      <th>recall_0</th>\n",
              "      <th>recall_1</th>\n",
              "      <th>precision_0</th>\n",
              "      <th>precision_1</th>\n",
              "      <th>true_negatives</th>\n",
              "      <th>false_negatives</th>\n",
              "      <th>true_positives</th>\n",
              "      <th>false_positives</th>\n",
              "      <th>f1</th>\n",
              "    </tr>\n",
              "  </thead>\n",
              "  <tbody>\n",
              "    <tr>\n",
              "      <th>0</th>\n",
              "      <td>0.853597</td>\n",
              "      <td>0.835863</td>\n",
              "      <td>0.87144</td>\n",
              "      <td>0.867411</td>\n",
              "      <td>0.840675</td>\n",
              "      <td>5286</td>\n",
              "      <td>808</td>\n",
              "      <td>5477</td>\n",
              "      <td>1038</td>\n",
              "      <td>0.855781</td>\n",
              "    </tr>\n",
              "  </tbody>\n",
              "</table>\n",
              "</div>\n",
              "    <div class=\"colab-df-buttons\">\n",
              "\n",
              "  <div class=\"colab-df-container\">\n",
              "    <button class=\"colab-df-convert\" onclick=\"convertToInteractive('df-d618ba0c-bc32-4869-bc03-063b53c8795e')\"\n",
              "            title=\"Convert this dataframe to an interactive table.\"\n",
              "            style=\"display:none;\">\n",
              "\n",
              "  <svg xmlns=\"http://www.w3.org/2000/svg\" height=\"24px\" viewBox=\"0 -960 960 960\">\n",
              "    <path d=\"M120-120v-720h720v720H120Zm60-500h600v-160H180v160Zm220 220h160v-160H400v160Zm0 220h160v-160H400v160ZM180-400h160v-160H180v160Zm440 0h160v-160H620v160ZM180-180h160v-160H180v160Zm440 0h160v-160H620v160Z\"/>\n",
              "  </svg>\n",
              "    </button>\n",
              "\n",
              "  <style>\n",
              "    .colab-df-container {\n",
              "      display:flex;\n",
              "      gap: 12px;\n",
              "    }\n",
              "\n",
              "    .colab-df-convert {\n",
              "      background-color: #E8F0FE;\n",
              "      border: none;\n",
              "      border-radius: 50%;\n",
              "      cursor: pointer;\n",
              "      display: none;\n",
              "      fill: #1967D2;\n",
              "      height: 32px;\n",
              "      padding: 0 0 0 0;\n",
              "      width: 32px;\n",
              "    }\n",
              "\n",
              "    .colab-df-convert:hover {\n",
              "      background-color: #E2EBFA;\n",
              "      box-shadow: 0px 1px 2px rgba(60, 64, 67, 0.3), 0px 1px 3px 1px rgba(60, 64, 67, 0.15);\n",
              "      fill: #174EA6;\n",
              "    }\n",
              "\n",
              "    .colab-df-buttons div {\n",
              "      margin-bottom: 4px;\n",
              "    }\n",
              "\n",
              "    [theme=dark] .colab-df-convert {\n",
              "      background-color: #3B4455;\n",
              "      fill: #D2E3FC;\n",
              "    }\n",
              "\n",
              "    [theme=dark] .colab-df-convert:hover {\n",
              "      background-color: #434B5C;\n",
              "      box-shadow: 0px 1px 3px 1px rgba(0, 0, 0, 0.15);\n",
              "      filter: drop-shadow(0px 1px 2px rgba(0, 0, 0, 0.3));\n",
              "      fill: #FFFFFF;\n",
              "    }\n",
              "  </style>\n",
              "\n",
              "    <script>\n",
              "      const buttonEl =\n",
              "        document.querySelector('#df-d618ba0c-bc32-4869-bc03-063b53c8795e button.colab-df-convert');\n",
              "      buttonEl.style.display =\n",
              "        google.colab.kernel.accessAllowed ? 'block' : 'none';\n",
              "\n",
              "      async function convertToInteractive(key) {\n",
              "        const element = document.querySelector('#df-d618ba0c-bc32-4869-bc03-063b53c8795e');\n",
              "        const dataTable =\n",
              "          await google.colab.kernel.invokeFunction('convertToInteractive',\n",
              "                                                    [key], {});\n",
              "        if (!dataTable) return;\n",
              "\n",
              "        const docLinkHtml = 'Like what you see? Visit the ' +\n",
              "          '<a target=\"_blank\" href=https://colab.research.google.com/notebooks/data_table.ipynb>data table notebook</a>'\n",
              "          + ' to learn more about interactive tables.';\n",
              "        element.innerHTML = '';\n",
              "        dataTable['output_type'] = 'display_data';\n",
              "        await google.colab.output.renderOutput(dataTable, element);\n",
              "        const docLink = document.createElement('div');\n",
              "        docLink.innerHTML = docLinkHtml;\n",
              "        element.appendChild(docLink);\n",
              "      }\n",
              "    </script>\n",
              "  </div>\n",
              "\n",
              "    </div>\n",
              "  </div>\n"
            ]
          },
          "metadata": {}
        },
        {
          "output_type": "stream",
          "name": "stdout",
          "text": [
            "CPU times: user 4.54 s, sys: 545 ms, total: 5.08 s\n",
            "Wall time: 10min 26s\n"
          ]
        }
      ]
    },
    {
      "cell_type": "code",
      "source": [
        "%%time\n",
        "\n",
        "#working with IDF\n",
        "print('Calling  HashingTF')\n",
        "hashing_vec = HashingTF(inputCol='refined_tokens',outputCol='features_tf')\n",
        "hashing_df = hashing_vec.transform(refined_text_df)\n",
        "hashing_df.show(5)\n",
        "\n",
        "print('Calling IDF')\n",
        "tf_idf_vec = IDF(inputCol='features_tf',outputCol='features_tf_idf')\n",
        "tf_idf_df  = tf_idf_vec.fit(hashing_df).transform(hashing_df)\n",
        "tf_idf_df.select(['refined_tokens','token_count','features_tf_idf','sentiment_index']).show(5)\n",
        "\n",
        "model_tfidf_text_df = tf_idf_df.select(['features_tf_idf','token_count','sentiment_index'])\n",
        "\n",
        "\n",
        "df_assembler = VectorAssembler(inputCols=['features_tf_idf','token_count'],outputCol='features_tfidf_vec')\n",
        "model_tfidf_text_df = df_assembler.transform(model_tfidf_text_df)\n",
        "model_tfidf_text_df.printSchema()\n",
        "\n",
        "#spliting the dataset\n",
        "training_df,test_df = model_tfidf_text_df.randomSplit([0.75,0.25])\n",
        "trdf = training_df.groupBy('sentiment_index').count().withColumnRenamed('count', 'count_training')\n",
        "tsdf = test_df.groupBy('sentiment_index').count().withColumnRenamed('count', 'count_test')\n",
        "trdf = trdf.join(tsdf, 'sentiment_index', how='inner')\n",
        "print('Distribution of training and test datasets')\n",
        "trdf.show()\n",
        "\n",
        "\n",
        "#training and evaluating the model\n",
        "log_reg = LogisticRegression(featuresCol='features_tfidf_vec',labelCol='sentiment_index').fit(training_df)\n",
        "log_reg_preds = log_reg.transform(test_df)\n",
        "#results = log_reg.evaluate(test_df).predictions\n",
        "log_reg_preds.show()\n",
        "\n",
        "lrEval = BinaryClassificationEvaluator(labelCol='sentiment_index')\n",
        "print('Test Area Under ROC', lrEval.evaluate(log_reg_preds))\n",
        "\n",
        "\n",
        "beta = np.sort(log_reg.coefficients)\n",
        "trainingSummary = log_reg.summary\n",
        "lrROC = trainingSummary.roc.toPandas()\n",
        "pr = trainingSummary.pr.toPandas()\n",
        "print('Training set areaUnderROC: ' + str(trainingSummary.areaUnderROC))\n",
        "\n",
        "#confusion matrix\n",
        "cm = pyspark_confusion_matrix(log_reg_preds, 'sentiment_index', 'prediction')\n",
        "metrics = binary_classification_metrics(cm)\n",
        "\n",
        "print('Plotting')\n",
        "plt.subplot(221)\n",
        "plt.plot(beta)\n",
        "plt.ylabel('Beta Coefficients')\n",
        "\n",
        "plt.subplot(222)\n",
        "plt.plot(lrROC['FPR'],lrROC['TPR'])\n",
        "plt.ylabel('False Positive Rate')\n",
        "plt.xlabel('True Positive Rate')\n",
        "plt.title('ROC Curve')\n",
        "\n",
        "plt.subplot(223)\n",
        "plt.plot(pr['recall'],pr['precision'])\n",
        "plt.ylabel('Precision')\n",
        "plt.xlabel('Recall')\n",
        "\n",
        "plt.subplot(224)\n",
        "cmp = cm.iloc[:,1:].values\n",
        "ax = sns.heatmap(cmp, annot=True,fmt='g')\n",
        "#ax.invert_xaxis()\n",
        "ax.invert_yaxis()\n",
        "plt.ylabel('Actual')\n",
        "plt.xlabel('Predicted')\n",
        "\n",
        "# set the spacing between subplots\n",
        "plt.subplots_adjust(left=0.1,\n",
        "                    bottom=0.1,\n",
        "                    right=0.9,\n",
        "                    top=0.9,\n",
        "                    wspace=0.4,\n",
        "                    hspace=0.4)\n",
        "plt.show()\n",
        "\n",
        "\n",
        "display(pd.DataFrame(metrics))"
      ],
      "metadata": {
        "colab": {
          "base_uri": "https://localhost:8080/",
          "height": 1000
        },
        "outputId": "3a354557-0910-495b-81ee-6301a61a4eb4",
        "id": "zjX27OXNGCwa"
      },
      "execution_count": 24,
      "outputs": [
        {
          "output_type": "stream",
          "name": "stdout",
          "text": [
            "Calling  HashingTF\n",
            "+--------------------+---------+---------------+------+--------------------+--------------------+-----------+--------------------+\n",
            "|              review|sentiment|sentiment_index|length|              tokens|      refined_tokens|token_count|         features_tf|\n",
            "+--------------------+---------+---------------+------+--------------------+--------------------+-----------+--------------------+\n",
            "|One of the other ...| positive|            1.0|  1761|[one, of, the, ot...|[one, reviewers, ...|        173|(262144,[3280,436...|\n",
            "|A wonderful littl...| positive|            1.0|   998|[a, wonderful, li...|[wonderful, littl...|         96|(262144,[120,521,...|\n",
            "|I thought this wa...| positive|            1.0|   926|[i, thought, this...|[thought, wonderf...|         88|(262144,[1043,139...|\n",
            "|Basically there's...| negative|            0.0|   748|[basically, there...|[basically, famil...|         74|(262144,[6512,853...|\n",
            "|Petter Mattei's \"...| positive|            1.0|  1317|[petter, mattei's...|[petter, mattei's...|        134|(262144,[2751,392...|\n",
            "+--------------------+---------+---------------+------+--------------------+--------------------+-----------+--------------------+\n",
            "only showing top 5 rows\n",
            "\n",
            "Calling IDF\n",
            "+--------------------+-----------+--------------------+---------------+\n",
            "|      refined_tokens|token_count|     features_tf_idf|sentiment_index|\n",
            "+--------------------+-----------+--------------------+---------------+\n",
            "|[one, reviewers, ...|        173|(262144,[3280,436...|            1.0|\n",
            "|[wonderful, littl...|         96|(262144,[120,521,...|            1.0|\n",
            "|[thought, wonderf...|         88|(262144,[1043,139...|            1.0|\n",
            "|[basically, famil...|         74|(262144,[6512,853...|            0.0|\n",
            "|[petter, mattei's...|        134|(262144,[2751,392...|            1.0|\n",
            "+--------------------+-----------+--------------------+---------------+\n",
            "only showing top 5 rows\n",
            "\n",
            "root\n",
            " |-- features_tf_idf: vector (nullable = true)\n",
            " |-- token_count: integer (nullable = true)\n",
            " |-- sentiment_index: double (nullable = false)\n",
            " |-- features_tfidf_vec: vector (nullable = true)\n",
            "\n",
            "Distribution of training and test datasets\n",
            "+---------------+--------------+----------+\n",
            "|sentiment_index|count_training|count_test|\n",
            "+---------------+--------------+----------+\n",
            "|            0.0|         18676|      6324|\n",
            "|            1.0|         18812|      6188|\n",
            "+---------------+--------------+----------+\n",
            "\n",
            "+--------------------+-----------+---------------+--------------------+--------------------+--------------------+----------+\n",
            "|     features_tf_idf|token_count|sentiment_index|  features_tfidf_vec|       rawPrediction|         probability|prediction|\n",
            "+--------------------+-----------+---------------+--------------------+--------------------+--------------------+----------+\n",
            "|(262144,[2,211,32...|        414|            1.0|(262145,[2,211,32...|[61.0247165380855...|           [1.0,0.0]|       0.0|\n",
            "|(262144,[6,521,95...|        436|            0.0|(262145,[6,521,95...|[63.4187985188743...|           [1.0,0.0]|       0.0|\n",
            "|(262144,[6,1076,1...|        170|            0.0|(262145,[6,1076,1...|[25.9745424871140...|[0.99999999999475...|       0.0|\n",
            "|(262144,[6,1753,2...|        264|            1.0|(262145,[6,1753,2...|[-37.909347597683...|[3.43699994963873...|       1.0|\n",
            "|(262144,[13,294,1...|        169|            1.0|(262145,[13,294,1...|[-32.121199584384...|[1.12186414572990...|       1.0|\n",
            "|(262144,[13,1491,...|        177|            1.0|(262145,[13,1491,...|[72.7457618836922...|           [1.0,0.0]|       0.0|\n",
            "|(262144,[13,1889,...|        161|            1.0|(262145,[13,1889,...|[45.7408345785688...|           [1.0,0.0]|       0.0|\n",
            "|(262144,[13,1968,...|        214|            1.0|(262145,[13,1968,...|[-32.299917357674...|[9.38261995798775...|       1.0|\n",
            "|(262144,[13,2134,...|        106|            1.0|(262145,[13,2134,...|[-21.887083732528...|[3.12291605113723...|       1.0|\n",
            "|(262144,[13,2977,...|        191|            1.0|(262145,[13,2977,...|[5.39125989137205...|[0.99546443570717...|       0.0|\n",
            "|(262144,[15,3613,...|         32|            1.0|(262145,[15,3613,...|[-4.0244753445225...|[0.01755897080410...|       1.0|\n",
            "|(262144,[17,1819,...|        239|            1.0|(262145,[17,1819,...|[-20.464799876997...|[1.29494206753181...|       1.0|\n",
            "|(262144,[17,2977,...|        180|            0.0|(262145,[17,2977,...|[42.8712532329556...|           [1.0,0.0]|       0.0|\n",
            "|(262144,[19,378,6...|        184|            0.0|(262145,[19,378,6...|[25.3968051497205...|[0.99999999999066...|       0.0|\n",
            "|(262144,[19,521,3...|        115|            0.0|(262145,[19,521,3...|[8.49983615249126...|[0.99979653969499...|       0.0|\n",
            "|(262144,[19,794,5...|        215|            1.0|(262145,[19,794,5...|[-49.560889969451...|[2.99211973118032...|       1.0|\n",
            "|(262144,[19,991,1...|        155|            1.0|(262145,[19,991,1...|[13.1141751366758...|[0.99999798356035...|       0.0|\n",
            "|(262144,[19,991,2...|        121|            0.0|(262145,[19,991,2...|[5.01671464092149...|[0.99341735767031...|       0.0|\n",
            "|(262144,[19,1056,...|         63|            0.0|(262145,[19,1056,...|[7.50862465850671...|[0.99945196578834...|       0.0|\n",
            "|(262144,[19,1240,...|        300|            1.0|(262145,[19,1240,...|[-75.658927829552...|[1.38594225834109...|       1.0|\n",
            "+--------------------+-----------+---------------+--------------------+--------------------+--------------------+----------+\n",
            "only showing top 20 rows\n",
            "\n",
            "Test Area Under ROC 0.9113376229195517\n",
            "Training set areaUnderROC: 0.9999998804552647\n",
            "Plotting\n"
          ]
        },
        {
          "output_type": "display_data",
          "data": {
            "text/plain": [
              "<Figure size 1200x800 with 5 Axes>"
            ],
            "image/png": "[encoded data removed]"
          },
          "metadata": {}
        },
        {
          "output_type": "display_data",
          "data": {
            "text/plain": [
              "   accuracy  recall_0  recall_1  precision_0  precision_1  true_negatives  \\\n",
              "0   0.84415  0.815149  0.873788      0.86843     0.822232            5155   \n",
              "\n",
              "   false_negatives  true_positives  false_positives        f1  \n",
              "0              781            5407             1169  0.847227  "
            ],
            "text/html": [
              "\n",
              "  <div id=\"df-063fe7a6-5bfc-4112-a551-3f8fb5d861c1\" class=\"colab-df-container\">\n",
              "    <div>\n",
              "<style scoped>\n",
              "    .dataframe tbody tr th:only-of-type {\n",
              "        vertical-align: middle;\n",
              "    }\n",
              "\n",
              "    .dataframe tbody tr th {\n",
              "        vertical-align: top;\n",
              "    }\n",
              "\n",
              "    .dataframe thead th {\n",
              "        text-align: right;\n",
              "    }\n",
              "</style>\n",
              "<table border=\"1\" class=\"dataframe\">\n",
              "  <thead>\n",
              "    <tr style=\"text-align: right;\">\n",
              "      <th></th>\n",
              "      <th>accuracy</th>\n",
              "      <th>recall_0</th>\n",
              "      <th>recall_1</th>\n",
              "      <th>precision_0</th>\n",
              "      <th>precision_1</th>\n",
              "      <th>true_negatives</th>\n",
              "      <th>false_negatives</th>\n",
              "      <th>true_positives</th>\n",
              "      <th>false_positives</th>\n",
              "      <th>f1</th>\n",
              "    </tr>\n",
              "  </thead>\n",
              "  <tbody>\n",
              "    <tr>\n",
              "      <th>0</th>\n",
              "      <td>0.84415</td>\n",
              "      <td>0.815149</td>\n",
              "      <td>0.873788</td>\n",
              "      <td>0.86843</td>\n",
              "      <td>0.822232</td>\n",
              "      <td>5155</td>\n",
              "      <td>781</td>\n",
              "      <td>5407</td>\n",
              "      <td>1169</td>\n",
              "      <td>0.847227</td>\n",
              "    </tr>\n",
              "  </tbody>\n",
              "</table>\n",
              "</div>\n",
              "    <div class=\"colab-df-buttons\">\n",
              "\n",
              "  <div class=\"colab-df-container\">\n",
              "    <button class=\"colab-df-convert\" onclick=\"convertToInteractive('df-063fe7a6-5bfc-4112-a551-3f8fb5d861c1')\"\n",
              "            title=\"Convert this dataframe to an interactive table.\"\n",
              "            style=\"display:none;\">\n",
              "\n",
              "  <svg xmlns=\"http://www.w3.org/2000/svg\" height=\"24px\" viewBox=\"0 -960 960 960\">\n",
              "    <path d=\"M120-120v-720h720v720H120Zm60-500h600v-160H180v160Zm220 220h160v-160H400v160Zm0 220h160v-160H400v160ZM180-400h160v-160H180v160Zm440 0h160v-160H620v160ZM180-180h160v-160H180v160Zm440 0h160v-160H620v160Z\"/>\n",
              "  </svg>\n",
              "    </button>\n",
              "\n",
              "  <style>\n",
              "    .colab-df-container {\n",
              "      display:flex;\n",
              "      gap: 12px;\n",
              "    }\n",
              "\n",
              "    .colab-df-convert {\n",
              "      background-color: #E8F0FE;\n",
              "      border: none;\n",
              "      border-radius: 50%;\n",
              "      cursor: pointer;\n",
              "      display: none;\n",
              "      fill: #1967D2;\n",
              "      height: 32px;\n",
              "      padding: 0 0 0 0;\n",
              "      width: 32px;\n",
              "    }\n",
              "\n",
              "    .colab-df-convert:hover {\n",
              "      background-color: #E2EBFA;\n",
              "      box-shadow: 0px 1px 2px rgba(60, 64, 67, 0.3), 0px 1px 3px 1px rgba(60, 64, 67, 0.15);\n",
              "      fill: #174EA6;\n",
              "    }\n",
              "\n",
              "    .colab-df-buttons div {\n",
              "      margin-bottom: 4px;\n",
              "    }\n",
              "\n",
              "    [theme=dark] .colab-df-convert {\n",
              "      background-color: #3B4455;\n",
              "      fill: #D2E3FC;\n",
              "    }\n",
              "\n",
              "    [theme=dark] .colab-df-convert:hover {\n",
              "      background-color: #434B5C;\n",
              "      box-shadow: 0px 1px 3px 1px rgba(0, 0, 0, 0.15);\n",
              "      filter: drop-shadow(0px 1px 2px rgba(0, 0, 0, 0.3));\n",
              "      fill: #FFFFFF;\n",
              "    }\n",
              "  </style>\n",
              "\n",
              "    <script>\n",
              "      const buttonEl =\n",
              "        document.querySelector('#df-063fe7a6-5bfc-4112-a551-3f8fb5d861c1 button.colab-df-convert');\n",
              "      buttonEl.style.display =\n",
              "        google.colab.kernel.accessAllowed ? 'block' : 'none';\n",
              "\n",
              "      async function convertToInteractive(key) {\n",
              "        const element = document.querySelector('#df-063fe7a6-5bfc-4112-a551-3f8fb5d861c1');\n",
              "        const dataTable =\n",
              "          await google.colab.kernel.invokeFunction('convertToInteractive',\n",
              "                                                    [key], {});\n",
              "        if (!dataTable) return;\n",
              "\n",
              "        const docLinkHtml = 'Like what you see? Visit the ' +\n",
              "          '<a target=\"_blank\" href=https://colab.research.google.com/notebooks/data_table.ipynb>data table notebook</a>'\n",
              "          + ' to learn more about interactive tables.';\n",
              "        element.innerHTML = '';\n",
              "        dataTable['output_type'] = 'display_data';\n",
              "        await google.colab.output.renderOutput(dataTable, element);\n",
              "        const docLink = document.createElement('div');\n",
              "        docLink.innerHTML = docLinkHtml;\n",
              "        element.appendChild(docLink);\n",
              "      }\n",
              "    </script>\n",
              "  </div>\n",
              "\n",
              "    </div>\n",
              "  </div>\n"
            ]
          },
          "metadata": {}
        },
        {
          "output_type": "stream",
          "name": "stdout",
          "text": [
            "CPU times: user 4.46 s, sys: 457 ms, total: 4.92 s\n",
            "Wall time: 10min 10s\n"
          ]
        }
      ]
    },
    {
      "cell_type": "code",
      "source": [],
      "metadata": {
        "id": "h7VsZK20fjQF"
      },
      "execution_count": null,
      "outputs": []
    }
  ],
  "metadata": {
    "colab": {
      "provenance": [],
      "authorship_tag": "ABX9TyMAdDh+3OY43DtQtvUp4rT1"
    },
    "kernelspec": {
      "display_name": "Python 3",
      "name": "python3"
    },
    "language_info": {
      "name": "python"
    }
  },
  "nbformat": 4,
  "nbformat_minor": 0
}