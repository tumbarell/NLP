{
  "cells": [
    {
      "cell_type": "markdown",
      "metadata": {
        "id": "LORdGodnf9Kl"
      },
      "source": [
        "# Stop Words\n",
        "Words like \"a\" and \"the\" appear so frequently that they don't require tagging as thoroughly as nouns, verbs and modifiers. We call these *stop words*, and they can be filtered from the text to be processed. spaCy holds a built-in list of some 305 English stop words."
      ]
    },
    {
      "cell_type": "code",
      "execution_count": 1,
      "metadata": {
        "id": "cGb97g5ff9Km"
      },
      "outputs": [],
      "source": [
        "# Perform standard imports:\n",
        "import spacy\n",
        "nlp = spacy.load('en_core_web_sm')"
      ]
    },
    {
      "cell_type": "code",
      "execution_count": 2,
      "metadata": {
        "colab": {
          "base_uri": "https://localhost:8080/"
        },
        "id": "zOC74zIbf9Km",
        "outputId": "cdf250ed-bb84-438a-a2e2-5f943948f967"
      },
      "outputs": [
        {
          "output_type": "stream",
          "name": "stdout",
          "text": [
            "{'much', 'therefore', 'very', 'eight', 'still', 'do', 'regarding', 'side', 'will', 'who', 'five', 'anyhow', 'empty', 'those', 'between', 'somewhere', 'nor', 'whatever', \"'m\", 'whole', 'therein', 'however', 'nobody', 'are', 'beside', 'onto', 'until', 'twelve', 'at', 'beforehand', 'throughout', 'about', 'wherever', 'n‘t', 'in', 'everyone', '’m', 'using', \"'d\", 'due', '‘ve', 'seems', 'sixty', \"'s\", 'can', 'perhaps', 'meanwhile', 'our', 'because', 'namely', 'unless', 'itself', 'they', 'hers', 'thru', 'such', 'behind', 'cannot', 'least', 'made', 'was', 'along', \"n't\", 'she', 'is', 'within', 'as', 'same', 'show', 'often', 'been', 'and', 'i', 'amount', 'always', 'there', 'already', 'for', 'once', 'mine', 'it', 'otherwise', 'has', 'now', '‘re', 'too', 'off', 'would', 'several', 'quite', 'whereupon', 'latterly', 'enough', 'name', 'without', 'bottom', 'you', 'becomes', 'everywhere', \"'ve\", '’d', 'from', 'since', 'a', 'not', 'must', 'first', 'somehow', 'many', 'have', 'keep', 'again', 'any', '‘d', 'their', 'or', 'eleven', 'had', 'none', 'even', '‘m', 'were', 'most', 'this', 'some', 'upon', 'whenever', 'formerly', 'something', '’ve', 'fifteen', 'via', 'here', 'also', 'never', 'various', 'moreover', 'under', 'ever', 'through', 'sometimes', 'elsewhere', 'top', 'nine', '’s', 'his', 'of', 'rather', 'two', 'done', 'next', 'into', 'take', 'see', 'twenty', 'three', 'go', 'that', 'thereby', 'call', 'to', 'ours', 'afterwards', 'her', 'another', 'me', 'only', 'your', 'just', 'whence', 'above', 'well', 'anyway', 'whereas', 'before', 'them', 'becoming', 'less', 'someone', 'we', 'be', 'besides', 'over', 'others', 'so', 'yet', 'sometime', 'should', 'few', 'whereafter', 'thereafter', 'yours', 'how', 'except', 'us', 'neither', 'am', 'say', 'more', 'the', 'when', 'he', 'used', 'him', 'ten', 'my', 'make', '‘s', 'an', '’ll', 'nowhere', 'mostly', 'after', 'might', 'may', 're', 'both', 'what', 'give', 'get', 'its', 'on', 'own', 'around', 'really', 'one', 'become', 'either', 'thence', 'nevertheless', 'every', 'but', 'across', 'third', 'each', 'indeed', 'thus', 'ourselves', 'hereupon', 'back', 'hereby', 'serious', 'towards', 'which', 'whose', 'everything', 'front', 'almost', 'then', 'other', 'ca', '‘ll', 'no', 'did', 'whereby', 'per', 'put', 'though', 'during', 'anything', 'although', 'last', 'thereupon', \"'re\", 'doing', \"'ll\", 'where', 'being', 'could', 'latter', 'full', 'yourselves', 'toward', 'does', 'fifty', 'if', 'all', 'nothing', 'anywhere', '’re', 'among', 'himself', 'became', 'please', 'n’t', 'whether', 'four', 'whither', 'against', 'herself', 'alone', 'wherein', 'whom', 'part', 'beyond', 'below', 'hundred', 'while', 'whoever', 'themselves', 'by', 'seemed', 'hence', 'yourself', 'out', 'forty', 'up', 'move', 'further', 'seeming', 'than', 'these', 'down', 'together', 'former', 'noone', 'six', 'myself', 'else', 'why', 'with', 'hereafter', 'anyone', 'herein', 'seem', 'amongst'}\n"
          ]
        }
      ],
      "source": [
        "# Print the set of spaCy's default stop words (remember that sets are unordered):\n",
        "print(nlp.Defaults.stop_words)"
      ]
    },
    {
      "cell_type": "code",
      "execution_count": 3,
      "metadata": {
        "colab": {
          "base_uri": "https://localhost:8080/"
        },
        "id": "2Je1uSl_f9Kn",
        "outputId": "8df52c93-372d-4faa-cff6-715f036862a7"
      },
      "outputs": [
        {
          "output_type": "execute_result",
          "data": {
            "text/plain": [
              "326"
            ]
          },
          "metadata": {},
          "execution_count": 3
        }
      ],
      "source": [
        "len(nlp.Defaults.stop_words)"
      ]
    },
    {
      "cell_type": "markdown",
      "metadata": {
        "id": "k-su-ZP6f9Kn"
      },
      "source": [
        "## To see if a word is a stop word"
      ]
    },
    {
      "cell_type": "code",
      "execution_count": 4,
      "metadata": {
        "colab": {
          "base_uri": "https://localhost:8080/"
        },
        "id": "zoMuKzfhf9Ko",
        "outputId": "fed0c9b2-0f3e-4b1a-e581-a87aae540f52"
      },
      "outputs": [
        {
          "output_type": "execute_result",
          "data": {
            "text/plain": [
              "True"
            ]
          },
          "metadata": {},
          "execution_count": 4
        }
      ],
      "source": [
        "nlp.vocab['myself'].is_stop"
      ]
    },
    {
      "cell_type": "code",
      "execution_count": 5,
      "metadata": {
        "colab": {
          "base_uri": "https://localhost:8080/"
        },
        "id": "yjB26hKgf9Ko",
        "outputId": "d79542e1-e94a-4d57-abc7-d649d2cc6c79"
      },
      "outputs": [
        {
          "output_type": "execute_result",
          "data": {
            "text/plain": [
              "False"
            ]
          },
          "metadata": {},
          "execution_count": 5
        }
      ],
      "source": [
        "nlp.vocab['mystery'].is_stop"
      ]
    },
    {
      "cell_type": "markdown",
      "metadata": {
        "id": "J4a8oND-f9Ko"
      },
      "source": [
        "## To add a stop word\n",
        "There may be times when you wish to add a stop word to the default set. Perhaps you decide that `'btw'` (common shorthand for \"by the way\") should be considered a stop word."
      ]
    },
    {
      "cell_type": "code",
      "execution_count": 6,
      "metadata": {
        "id": "iZ8dTP3ff9Kp"
      },
      "outputs": [],
      "source": [
        "# Add the word to the set of stop words. Use lowercase!\n",
        "nlp.Defaults.stop_words.add('btw')\n",
        "\n",
        "# Set the stop_word tag on the lexeme\n",
        "nlp.vocab['btw'].is_stop = True"
      ]
    },
    {
      "cell_type": "code",
      "execution_count": 7,
      "metadata": {
        "colab": {
          "base_uri": "https://localhost:8080/"
        },
        "id": "-7MLz5ayf9Kp",
        "outputId": "755fc07f-632a-4a90-bdfd-55c437d31238"
      },
      "outputs": [
        {
          "output_type": "execute_result",
          "data": {
            "text/plain": [
              "327"
            ]
          },
          "metadata": {},
          "execution_count": 7
        }
      ],
      "source": [
        "len(nlp.Defaults.stop_words)"
      ]
    },
    {
      "cell_type": "code",
      "execution_count": 8,
      "metadata": {
        "colab": {
          "base_uri": "https://localhost:8080/"
        },
        "id": "QqDou1wJf9Kq",
        "outputId": "59acf49c-7df7-42c2-857e-73d20413d051"
      },
      "outputs": [
        {
          "output_type": "execute_result",
          "data": {
            "text/plain": [
              "True"
            ]
          },
          "metadata": {},
          "execution_count": 8
        }
      ],
      "source": [
        "nlp.vocab['btw'].is_stop"
      ]
    },
    {
      "cell_type": "markdown",
      "metadata": {
        "id": "LfTgcwiQf9Kq"
      },
      "source": [
        "<font color=green>When adding stop words, always use lowercase. Lexemes are converted to lowercase before being added to **vocab**.</font>"
      ]
    },
    {
      "cell_type": "markdown",
      "metadata": {
        "id": "JG9dt1wpf9Kq"
      },
      "source": [
        "## To remove a stop word\n",
        "Alternatively, you may decide that `'beyond'` should not be considered a stop word."
      ]
    },
    {
      "cell_type": "code",
      "execution_count": 9,
      "metadata": {
        "id": "K8B7zcrsf9Kr"
      },
      "outputs": [],
      "source": [
        "# Remove the word from the set of stop words\n",
        "nlp.Defaults.stop_words.remove('beyond')\n",
        "\n",
        "# Remove the stop_word tag from the lexeme\n",
        "nlp.vocab['beyond'].is_stop = False"
      ]
    },
    {
      "cell_type": "code",
      "execution_count": 10,
      "metadata": {
        "colab": {
          "base_uri": "https://localhost:8080/"
        },
        "id": "OYbZrsuQf9Kr",
        "outputId": "8febd5fd-96d2-4439-8411-1ba99e715b3f"
      },
      "outputs": [
        {
          "output_type": "execute_result",
          "data": {
            "text/plain": [
              "326"
            ]
          },
          "metadata": {},
          "execution_count": 10
        }
      ],
      "source": [
        "len(nlp.Defaults.stop_words)"
      ]
    },
    {
      "cell_type": "code",
      "execution_count": 11,
      "metadata": {
        "colab": {
          "base_uri": "https://localhost:8080/"
        },
        "id": "si4VGiDnf9Kr",
        "outputId": "057b9cdc-fb4e-4cab-d268-72ec3eeade3f"
      },
      "outputs": [
        {
          "output_type": "execute_result",
          "data": {
            "text/plain": [
              "False"
            ]
          },
          "metadata": {},
          "execution_count": 11
        }
      ],
      "source": [
        "nlp.vocab['beyond'].is_stop"
      ]
    }
  ],
  "metadata": {
    "kernelspec": {
      "display_name": "Python 3",
      "language": "python",
      "name": "python3"
    },
    "language_info": {
      "codemirror_mode": {
        "name": "ipython",
        "version": 3
      },
      "file_extension": ".py",
      "mimetype": "text/x-python",
      "name": "python",
      "nbconvert_exporter": "python",
      "pygments_lexer": "ipython3",
      "version": "3.6.7"
    },
    "colab": {
      "provenance": []
    }
  },
  "nbformat": 4,
  "nbformat_minor": 0
}