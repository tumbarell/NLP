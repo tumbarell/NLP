{
  "cells": [
    {
      "cell_type": "markdown",
      "metadata": {
        "id": "SKbAdpz_-xHA"
      },
      "source": [
        "## Formatted String Literals (f-strings)"
      ]
    },
    {
      "cell_type": "code",
      "execution_count": 1,
      "metadata": {
        "colab": {
          "base_uri": "https://localhost:8080/"
        },
        "id": "6J9wKn2g-xHB",
        "outputId": "763ce4fd-0fcf-421c-cec1-3bfe6387f7df"
      },
      "outputs": [
        {
          "output_type": "stream",
          "name": "stdout",
          "text": [
            "His name is Fred.\n",
            "His name is Fred.\n"
          ]
        }
      ],
      "source": [
        "name = 'Fred'\n",
        "\n",
        "# Using the .format() method:\n",
        "print('His name is {var}.'.format(var=name))\n",
        "\n",
        "# Using f-strings:\n",
        "print(f'His name is {name}.')"
      ]
    },
    {
      "cell_type": "markdown",
      "metadata": {
        "id": "AVi4m6PE-xHC"
      },
      "source": [
        "Pass `!r` to get the <strong>string representation</strong>:"
      ]
    },
    {
      "cell_type": "code",
      "execution_count": 2,
      "metadata": {
        "colab": {
          "base_uri": "https://localhost:8080/"
        },
        "id": "GShe95VD-xHD",
        "outputId": "c1908fd6-41cc-4c3e-9e2b-2730519890bb"
      },
      "outputs": [
        {
          "output_type": "stream",
          "name": "stdout",
          "text": [
            "His name is 'Fred'\n"
          ]
        }
      ],
      "source": [
        "print(f'His name is {name!r}')"
      ]
    },
    {
      "cell_type": "code",
      "execution_count": 3,
      "metadata": {
        "colab": {
          "base_uri": "https://localhost:8080/"
        },
        "id": "JZqLUkPq-xHE",
        "outputId": "27d6855c-f029-4f87-b970-df9cb26c3f17"
      },
      "outputs": [
        {
          "output_type": "stream",
          "name": "stdout",
          "text": [
            "Address: 123 Main Street\n"
          ]
        }
      ],
      "source": [
        "d = {'a':123,'b':456}\n",
        "#Not to let quotation marks in the replacement fields\n",
        "#conflict with the quoting used in the outer string.\n",
        "#Use different styles of quotation marks\n",
        "print(f\"Address: {d['a']} Main Street\")"
      ]
    },
    {
      "cell_type": "markdown",
      "metadata": {
        "id": "NL28sqyu-xHE"
      },
      "source": [
        "### Minimum Widths, Alignment and Padding\n",
        "You can pass arguments inside a nested set of curly braces to set a minimum width for the field, the alignment and even padding characters."
      ]
    },
    {
      "cell_type": "code",
      "execution_count": 6,
      "metadata": {
        "colab": {
          "base_uri": "https://localhost:8080/"
        },
        "id": "JNlk3_oA-xHF",
        "outputId": "74cb3978-0e9c-4e85-da95-3c409b7da3fc"
      },
      "outputs": [
        {
          "output_type": "stream",
          "name": "stdout",
          "text": [
            "Author     Topic    Pages  \n",
            "Twain      Rafting      601\n",
            "Feynman    Physics       95\n",
            "Hamilton   Mythology     144\n"
          ]
        }
      ],
      "source": [
        "library = [\n",
        "    ('Author', 'Topic', 'Pages'),\n",
        "    ('Twain', 'Rafting', 601),\n",
        "    ('Feynman', 'Physics', 95),\n",
        "    ('Hamilton', 'Mythology', 144)\n",
        "    ]\n",
        "\n",
        "for book in library:\n",
        "    print(f'{book[0]:{10}} {book[1]:{8}} {book[2]:{7}}')"
      ]
    },
    {
      "cell_type": "markdown",
      "metadata": {
        "id": "5aTdTyOK-xHF"
      },
      "source": [
        "Here the first three lines align, except `Pages` follows a default left-alignment while numbers are right-aligned. Also, the fourth line's page number is pushed to the right as `Mythology` exceeds the minimum field width of `8`. When setting minimum field widths make sure to take the longest item into account.\n",
        "\n",
        "To set the alignment, use the character `<` for left-align,  `^` for center, `>` for right.<br>\n",
        "To set padding, precede the alignment character with the padding character (`-` and `.` are common choices).\n",
        "\n"
      ]
    },
    {
      "cell_type": "code",
      "execution_count": 15,
      "metadata": {
        "colab": {
          "base_uri": "https://localhost:8080/"
        },
        "id": "iNBfBrzs-xHF",
        "outputId": "311b4764-6320-401d-f823-c6e0e4bbd235"
      },
      "outputs": [
        {
          "output_type": "stream",
          "name": "stdout",
          "text": [
            "Author     Topic      __Pages\n",
            "Twain      Rafting    ____601\n",
            "Feynman    Physics    _____95\n",
            "Hamilton   Mythology  ____144\n"
          ]
        }
      ],
      "source": [
        "for book in library:\n",
        "    print(f'{book[0]:{10}} {book[1]:{10}} {book[2]:_>{7}}') # here _> was added"
      ]
    },
    {
      "cell_type": "markdown",
      "metadata": {
        "id": "i-mxKGM7-xHF"
      },
      "source": [
        "### Date Formatting"
      ]
    },
    {
      "cell_type": "code",
      "execution_count": 16,
      "metadata": {
        "colab": {
          "base_uri": "https://localhost:8080/"
        },
        "id": "92A5b_rM-xHG",
        "outputId": "46ca1c50-7ec0-422a-e8ec-873216cd39ce"
      },
      "outputs": [
        {
          "output_type": "stream",
          "name": "stdout",
          "text": [
            "Date with date: 2023-09-15\n",
            "Date formatted:  September 15, 2023\n",
            "Date with datetime September 15, 2023\n"
          ]
        }
      ],
      "source": [
        "from datetime import datetime, date\n",
        "\n",
        "\n",
        "today_1 = date.today()\n",
        "print(\"Date with date:\", today_1)\n",
        "print('Date formatted: ', f'{today_1:%B %d, %Y}')\n",
        "\n",
        "today_2 = datetime(year=2023, month=9, day=15)\n",
        "print('Date with datetime', f'{today_2:%B %d, %Y}')"
      ]
    },
    {
      "cell_type": "markdown",
      "metadata": {
        "id": "6jbkktAa-xHG"
      },
      "source": [
        "For more info on formatted string literals visit https://docs.python.org/3/reference/lexical_analysis.html#f-strings\n",
        "\n",
        "***"
      ]
    },
    {
      "cell_type": "markdown",
      "metadata": {
        "id": "1qGBAK_3-xHG"
      },
      "source": [
        "# Files\n",
        "\n",
        "Python uses file objects to interact with external files. These file objects can be any sort of file (audio, text, emails, Excel documents).\n",
        "\n",
        "Python has a built-in open function that allows us to open and play with basic file types. <br>Let's use some IPython magic to create a text file!\n",
        "\n",
        "## Creating a File with IPython\n",
        "#### This function is specific to jupyter notebooks! Alternatively, one could create a simple .txt file with any text editor."
      ]
    },
    {
      "cell_type": "code",
      "execution_count": 17,
      "metadata": {
        "colab": {
          "base_uri": "https://localhost:8080/"
        },
        "id": "Dyzf3lSC-xHH",
        "outputId": "f10eb5ba-91fa-472a-9b70-619de04ace81"
      },
      "outputs": [
        {
          "output_type": "stream",
          "name": "stdout",
          "text": [
            "Writing test.txt\n"
          ]
        }
      ],
      "source": [
        "%%writefile test.txt\n",
        "Hello, this is a quick test file.\n",
        "This is the second line of the file."
      ]
    },
    {
      "cell_type": "markdown",
      "metadata": {
        "id": "Usdy7kmA-xHH"
      },
      "source": [
        "## Python Opening a File\n",
        "\n",
        "### Know Your File's Location\n",
        "\n"
      ]
    },
    {
      "cell_type": "markdown",
      "metadata": {
        "id": "AgxlsQJE-xHH"
      },
      "source": [
        "Make sure your .txt file is saved in the same location as your notebook. To check your notebook location, use **pwd**:"
      ]
    },
    {
      "cell_type": "code",
      "execution_count": 18,
      "metadata": {
        "colab": {
          "base_uri": "https://localhost:8080/",
          "height": 35
        },
        "id": "YBbLjRoQ-xHH",
        "outputId": "c467d71b-3ef3-4387-c1a5-efc2d611c4f4"
      },
      "outputs": [
        {
          "output_type": "execute_result",
          "data": {
            "text/plain": [
              "'/content'"
            ],
            "application/vnd.google.colaboratory.intrinsic+json": {
              "type": "string"
            }
          },
          "metadata": {},
          "execution_count": 18
        }
      ],
      "source": [
        "pwd"
      ]
    },
    {
      "cell_type": "markdown",
      "metadata": {
        "id": "08ysB0yy-xHI"
      },
      "source": [
        "**Alternatively, to grab files from any location on your computer, simply pass in the entire file path. **\n",
        "\n",
        "For Windows you need to use double \\ so python doesn't treat the second \\ as an escape character, a file path is in the form:\n",
        "\n",
        "    myfile = open(\"C:\\\\Users\\\\YourUserName\\\\Home\\\\Folder\\\\myfile.txt\")\n",
        "\n",
        "For MacOS and Linux you use slashes in the opposite direction:\n",
        "\n",
        "    myfile = open(\"/Users/YourUserName/Folder/myfile.txt\")"
      ]
    },
    {
      "cell_type": "code",
      "execution_count": 19,
      "metadata": {
        "id": "8YDSxk6m-xHI"
      },
      "outputs": [],
      "source": [
        "# Open the text.txt file we created earlier\n",
        "my_file = open('test.txt')"
      ]
    },
    {
      "cell_type": "code",
      "execution_count": 20,
      "metadata": {
        "colab": {
          "base_uri": "https://localhost:8080/"
        },
        "id": "F2qwCIO2-xHI",
        "outputId": "e31adc60-83fa-4ec6-c8fb-74e1d61544cc"
      },
      "outputs": [
        {
          "output_type": "execute_result",
          "data": {
            "text/plain": [
              "<_io.TextIOWrapper name='test.txt' mode='r' encoding='UTF-8'>"
            ]
          },
          "metadata": {},
          "execution_count": 20
        }
      ],
      "source": [
        "my_file"
      ]
    },
    {
      "cell_type": "markdown",
      "metadata": {
        "id": "0vPg8U0H-xHI"
      },
      "source": [
        "`my_file` is now an open file object held in memory. We'll perform some reading and writing exercises, and then we have to close the file to free up memory.\n",
        "\n",
        "### .read() and .seek()"
      ]
    },
    {
      "cell_type": "code",
      "execution_count": 21,
      "metadata": {
        "colab": {
          "base_uri": "https://localhost:8080/",
          "height": 35
        },
        "id": "2jti2xB6-xHJ",
        "outputId": "446c8782-ea94-48a7-8dd8-739a5dd1e480"
      },
      "outputs": [
        {
          "output_type": "execute_result",
          "data": {
            "text/plain": [
              "'Hello, this is a quick test file.\\nThis is the second line of the file.\\n'"
            ],
            "application/vnd.google.colaboratory.intrinsic+json": {
              "type": "string"
            }
          },
          "metadata": {},
          "execution_count": 21
        }
      ],
      "source": [
        "# We can now read the file\n",
        "my_file.read()"
      ]
    },
    {
      "cell_type": "code",
      "execution_count": 22,
      "metadata": {
        "colab": {
          "base_uri": "https://localhost:8080/",
          "height": 35
        },
        "id": "NLc3znjc-xHJ",
        "outputId": "7cf6b599-fdbf-44cf-b819-477324134fb7"
      },
      "outputs": [
        {
          "output_type": "execute_result",
          "data": {
            "text/plain": [
              "''"
            ],
            "application/vnd.google.colaboratory.intrinsic+json": {
              "type": "string"
            }
          },
          "metadata": {},
          "execution_count": 22
        }
      ],
      "source": [
        "# If we try to read it again:\n",
        "my_file.read()"
      ]
    },
    {
      "cell_type": "markdown",
      "metadata": {
        "id": "dQwrZ6LL-xHJ"
      },
      "source": [
        "This happens because the reading \"cursor\" is at the end of the file after the first read. So there is nothing left to read. We can reset the \"cursor\" like this:"
      ]
    },
    {
      "cell_type": "code",
      "execution_count": 23,
      "metadata": {
        "colab": {
          "base_uri": "https://localhost:8080/"
        },
        "id": "G5KHS5c4-xHJ",
        "outputId": "ef5fc8dd-933b-4e80-a16a-2bef8a7ff6a1"
      },
      "outputs": [
        {
          "output_type": "execute_result",
          "data": {
            "text/plain": [
              "0"
            ]
          },
          "metadata": {},
          "execution_count": 23
        }
      ],
      "source": [
        "# Seek to the start of file (index 0)\n",
        "my_file.seek(0)"
      ]
    },
    {
      "cell_type": "code",
      "execution_count": 24,
      "metadata": {
        "colab": {
          "base_uri": "https://localhost:8080/",
          "height": 35
        },
        "id": "XZaOkaB7-xHK",
        "outputId": "e143e2d7-a087-4ee1-ec6f-3edac8b8f6e3"
      },
      "outputs": [
        {
          "output_type": "execute_result",
          "data": {
            "text/plain": [
              "'Hello, this is a quick test file.\\nThis is the second line of the file.\\n'"
            ],
            "application/vnd.google.colaboratory.intrinsic+json": {
              "type": "string"
            }
          },
          "metadata": {},
          "execution_count": 24
        }
      ],
      "source": [
        "# Now read again\n",
        "my_file.read()"
      ]
    },
    {
      "cell_type": "markdown",
      "metadata": {
        "id": "a6PrD6Y1-xHK"
      },
      "source": [
        "### .readlines()\n",
        "You can read a file line by line using the readlines method. Use caution with large files, since everything will be held in memory."
      ]
    },
    {
      "cell_type": "code",
      "execution_count": 25,
      "metadata": {
        "colab": {
          "base_uri": "https://localhost:8080/"
        },
        "id": "JAwJ1D__-xHK",
        "outputId": "b654ac1e-3cd7-448e-e51c-fdf35addd9c9"
      },
      "outputs": [
        {
          "output_type": "execute_result",
          "data": {
            "text/plain": [
              "['Hello, this is a quick test file.\\n',\n",
              " 'This is the second line of the file.\\n']"
            ]
          },
          "metadata": {},
          "execution_count": 25
        }
      ],
      "source": [
        "# Readlines returns a list of the lines in the file\n",
        "my_file.seek(0)\n",
        "my_file.readlines()"
      ]
    },
    {
      "cell_type": "markdown",
      "metadata": {
        "id": "FfXoW7R9-xHK"
      },
      "source": [
        "When you have finished using a file, it is always good practice to close it."
      ]
    },
    {
      "cell_type": "code",
      "execution_count": 26,
      "metadata": {
        "id": "4WHzoY94-xHL"
      },
      "outputs": [],
      "source": [
        "my_file.close()"
      ]
    },
    {
      "cell_type": "markdown",
      "metadata": {
        "id": "zUalZK-j-xHL"
      },
      "source": [
        "## Writing to a File\n",
        "\n",
        "By default, the `open()` function will only allow us to read the file. We need to pass the argument `'w'` to write over the file. For example:"
      ]
    },
    {
      "cell_type": "code",
      "execution_count": 28,
      "metadata": {
        "colab": {
          "base_uri": "https://localhost:8080/"
        },
        "id": "Im87DyDL-xHL",
        "outputId": "37c99efe-750f-4ac9-c176-ecc9c5a692e1"
      },
      "outputs": [
        {
          "output_type": "execute_result",
          "data": {
            "text/plain": [
              "[]"
            ]
          },
          "metadata": {},
          "execution_count": 28
        }
      ],
      "source": [
        "# Add a second argument to the function, 'w' which stands for write.\n",
        "# Passing 'w+' lets us read and write to the file\n",
        "\n",
        "my_file = open('test.txt','w+')\n",
        "my_file.readlines()"
      ]
    },
    {
      "cell_type": "markdown",
      "metadata": {
        "id": "wjydYqh2-xHL"
      },
      "source": [
        "<div class=\"alert alert-danger\" style=\"margin: 20px\">**Use caution!**<br>\n",
        "Opening a file with 'w' or 'w+' *truncates the original*, meaning that anything that was in the original file **is deleted**!</div>"
      ]
    },
    {
      "cell_type": "code",
      "execution_count": 29,
      "metadata": {
        "colab": {
          "base_uri": "https://localhost:8080/"
        },
        "id": "xZ_Md87m-xHL",
        "outputId": "535602b6-9003-42f5-ca45-346baf877e41"
      },
      "outputs": [
        {
          "output_type": "execute_result",
          "data": {
            "text/plain": [
              "24"
            ]
          },
          "metadata": {},
          "execution_count": 29
        }
      ],
      "source": [
        "# Write to the file\n",
        "my_file.write('This is a new first line')"
      ]
    },
    {
      "cell_type": "code",
      "execution_count": 30,
      "metadata": {
        "colab": {
          "base_uri": "https://localhost:8080/",
          "height": 35
        },
        "id": "F2H7NBsm-xHM",
        "outputId": "10ed753c-93b6-44bc-d86b-8e8c32dbc550"
      },
      "outputs": [
        {
          "output_type": "execute_result",
          "data": {
            "text/plain": [
              "'This is a new first line'"
            ],
            "application/vnd.google.colaboratory.intrinsic+json": {
              "type": "string"
            }
          },
          "metadata": {},
          "execution_count": 30
        }
      ],
      "source": [
        "# Read the file\n",
        "my_file.seek(0)\n",
        "my_file.read()"
      ]
    },
    {
      "cell_type": "code",
      "execution_count": 31,
      "metadata": {
        "id": "CiWuLDe_-xHM"
      },
      "outputs": [],
      "source": [
        "my_file.close()  # always do this when you're done with a file"
      ]
    },
    {
      "cell_type": "markdown",
      "metadata": {
        "id": "kU6gr9sv-xHM"
      },
      "source": [
        "## Appending to a File\n",
        "Passing the argument `'a'` opens the file and puts the pointer at the end, so anything written is appended. Like `'w+'`, `'a+'` lets us read and write to a file. If the file does not exist, one will be created."
      ]
    },
    {
      "cell_type": "code",
      "execution_count": 32,
      "metadata": {
        "colab": {
          "base_uri": "https://localhost:8080/"
        },
        "id": "4xIQZnaS-xHM",
        "outputId": "5e2d068f-714d-4134-d6d6-98722a0917db"
      },
      "outputs": [
        {
          "output_type": "execute_result",
          "data": {
            "text/plain": [
              "23"
            ]
          },
          "metadata": {},
          "execution_count": 32
        }
      ],
      "source": [
        "my_file = open('test.txt','a+')\n",
        "my_file.write('\\nThis line is being appended to test.txt')\n",
        "my_file.write('\\nAnd another line here.')"
      ]
    },
    {
      "cell_type": "code",
      "execution_count": 33,
      "metadata": {
        "colab": {
          "base_uri": "https://localhost:8080/"
        },
        "id": "IgC45S6y-xHM",
        "outputId": "b6f6eeb5-aa22-422e-e69b-15c06ebd0625"
      },
      "outputs": [
        {
          "output_type": "stream",
          "name": "stdout",
          "text": [
            "This is a new first line\n",
            "This line is being appended to test.txt\n",
            "And another line here.\n"
          ]
        }
      ],
      "source": [
        "my_file.seek(0)\n",
        "print(my_file.read())"
      ]
    },
    {
      "cell_type": "code",
      "execution_count": 34,
      "metadata": {
        "id": "NMa5W8Lb-xHN"
      },
      "outputs": [],
      "source": [
        "my_file.close()"
      ]
    },
    {
      "cell_type": "markdown",
      "metadata": {
        "id": "IDI02K9W-xHN"
      },
      "source": [
        "### Appending with `%%writefile`\n",
        "Jupyter notebook users can do the same thing using IPython cell magic:"
      ]
    },
    {
      "cell_type": "code",
      "execution_count": 35,
      "metadata": {
        "colab": {
          "base_uri": "https://localhost:8080/"
        },
        "id": "mx4fUDUF-xHN",
        "outputId": "72afb06d-eb33-4482-ba69-e157d72f9b69"
      },
      "outputs": [
        {
          "output_type": "stream",
          "name": "stdout",
          "text": [
            "Appending to test.txt\n"
          ]
        }
      ],
      "source": [
        "%%writefile -a test.txt\n",
        "\n",
        "This is more text being appended to test.txt\n",
        "\n",
        "And another line here."
      ]
    },
    {
      "cell_type": "markdown",
      "metadata": {
        "id": "BZajZkuO-xHN"
      },
      "source": [
        "Add a blank space if you want the first line to begin on its own line, as Jupyter won't recognize escape sequences like `\\n`"
      ]
    },
    {
      "cell_type": "code",
      "source": [
        "my_file = open('test.txt')\n",
        "print(my_file.read())\n",
        "my_file.close()"
      ],
      "metadata": {
        "colab": {
          "base_uri": "https://localhost:8080/"
        },
        "id": "sBmZ_oz5KzSZ",
        "outputId": "95fe4b1d-8c68-40a2-86c8-840c84772743"
      },
      "execution_count": 39,
      "outputs": [
        {
          "output_type": "stream",
          "name": "stdout",
          "text": [
            "This is a new first line\n",
            "This line is being appended to test.txt\n",
            "And another line here.\n",
            "This is more text being appended to test.txt\n",
            "\n",
            "And another line here.\n",
            "\n"
          ]
        }
      ]
    },
    {
      "cell_type": "markdown",
      "metadata": {
        "id": "K9cYzqS8-xHN"
      },
      "source": [
        "## Aliases and Context Managers\n",
        "You can assign temporary variable names as aliases, and manage the opening and closing of files automatically using a context manager:"
      ]
    },
    {
      "cell_type": "code",
      "execution_count": 40,
      "metadata": {
        "colab": {
          "base_uri": "https://localhost:8080/"
        },
        "id": "OgmgO5Xu-xHN",
        "outputId": "a2299edb-fa92-4f54-95d0-a02217241a46"
      },
      "outputs": [
        {
          "output_type": "stream",
          "name": "stdout",
          "text": [
            "This is a new first line\n",
            "\n"
          ]
        }
      ],
      "source": [
        "with open('test.txt','r') as txt:\n",
        "    first_line = txt.readlines()[0]\n",
        "\n",
        "print(first_line)"
      ]
    },
    {
      "cell_type": "markdown",
      "metadata": {
        "id": "QuWgcy1y-xHO"
      },
      "source": [
        "Note that the `with ... as ...:` context manager automatically closed `test.txt` after assigning the first line of text to first_line:"
      ]
    },
    {
      "cell_type": "markdown",
      "metadata": {
        "id": "t6N4VCQJ-xHO"
      },
      "source": [
        "## Iterating through a File"
      ]
    },
    {
      "cell_type": "code",
      "execution_count": 41,
      "metadata": {
        "colab": {
          "base_uri": "https://localhost:8080/"
        },
        "id": "unJp7ErJ-xHO",
        "outputId": "a1f7f4be-6a8d-45fb-b9f5-4b7eb9524f56"
      },
      "outputs": [
        {
          "output_type": "stream",
          "name": "stdout",
          "text": [
            "This is a new first line\n",
            "This line is being appended to test.txt\n",
            "And another line here.\n",
            "This is more text being appended to test.txt\n",
            "\n",
            "And another line here.\n"
          ]
        }
      ],
      "source": [
        "with open('test.txt','r') as txt:\n",
        "    for line in txt:\n",
        "        print(line, end='')  # the end='' argument removes extra linebreaks"
      ]
    },
    {
      "cell_type": "code",
      "source": [],
      "metadata": {
        "id": "ZhsOy-MBLxxc"
      },
      "execution_count": null,
      "outputs": []
    }
  ],
  "metadata": {
    "kernelspec": {
      "display_name": "Python 3 (ipykernel)",
      "language": "python",
      "name": "python3"
    },
    "language_info": {
      "codemirror_mode": {
        "name": "ipython",
        "version": 3
      },
      "file_extension": ".py",
      "mimetype": "text/x-python",
      "name": "python",
      "nbconvert_exporter": "python",
      "pygments_lexer": "ipython3",
      "version": "3.9.12"
    },
    "colab": {
      "provenance": []
    }
  },
  "nbformat": 4,
  "nbformat_minor": 0
}